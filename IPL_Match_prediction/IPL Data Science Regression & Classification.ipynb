{
 "cells": [
  {
   "cell_type": "markdown",
   "metadata": {
    "_uuid": "6078b2229b52d7287696cfdb10f946c4593b8ef1"
   },
   "source": []
  },
  {
   "cell_type": "code",
   "execution_count": 1,
   "metadata": {
    "_uuid": "eb0b9e0fcfecd8bd2e0b2323d34bed825f54f01a"
   },
   "outputs": [],
   "source": [
    "# Import all packages required for this project. \n",
    "import pandas as pd\n",
    "from matplotlib import pyplot as plt\n",
    "import numpy as np\n",
    "import seaborn as sns\n",
    "from scipy.stats import norm\n",
    "import sys\n",
    "import pandas\n",
    "from sklearn.multiclass import OneVsRestClassifier\n",
    "from pandas import DataFrame\n",
    "from sklearn.model_selection import train_test_split\n",
    "from pandas.plotting import scatter_matrix\n",
    "import matplotlib.pyplot as plt\n",
    "from sklearn import model_selection\n",
    "from sklearn.metrics import classification_report\n",
    "from sklearn.metrics import confusion_matrix\n",
    "from sklearn.metrics import accuracy_score\n",
    "from sklearn.ensemble import RandomForestClassifier\n",
    "from sklearn.linear_model import LogisticRegression\n",
    "from sklearn.tree import DecisionTreeClassifier\n",
    "from sklearn.neighbors import KNeighborsClassifier\n",
    "from sklearn.discriminant_analysis import LinearDiscriminantAnalysis\n",
    "from sklearn.naive_bayes import GaussianNB\n",
    "from sklearn.svm import SVC"
   ]
  },
  {
   "cell_type": "code",
   "execution_count": 2,
   "metadata": {
    "_uuid": "4db67b9650ad6a5d01bd7dccb11d922b891b1b9b"
   },
   "outputs": [],
   "source": [
    "# Read the files and name them accordingly\n",
    "iplmatches = pd.read_csv('matches.csv')\n",
    "ipldelivery = pd.read_csv('deliveries.csv')"
   ]
  },
  {
   "cell_type": "code",
   "execution_count": 3,
   "metadata": {
    "_uuid": "a985168ca61b451fc95192010f5cad113f25d0ed"
   },
   "outputs": [
    {
     "data": {
      "text/html": [
       "<div>\n",
       "<style scoped>\n",
       "    .dataframe tbody tr th:only-of-type {\n",
       "        vertical-align: middle;\n",
       "    }\n",
       "\n",
       "    .dataframe tbody tr th {\n",
       "        vertical-align: top;\n",
       "    }\n",
       "\n",
       "    .dataframe thead th {\n",
       "        text-align: right;\n",
       "    }\n",
       "</style>\n",
       "<table border=\"1\" class=\"dataframe\">\n",
       "  <thead>\n",
       "    <tr style=\"text-align: right;\">\n",
       "      <th></th>\n",
       "      <th>id</th>\n",
       "      <th>season</th>\n",
       "      <th>city</th>\n",
       "      <th>date</th>\n",
       "      <th>team1</th>\n",
       "      <th>team2</th>\n",
       "      <th>toss_winner</th>\n",
       "      <th>toss_decision</th>\n",
       "      <th>result</th>\n",
       "      <th>dl_applied</th>\n",
       "      <th>winner</th>\n",
       "      <th>win_by_runs</th>\n",
       "      <th>win_by_wickets</th>\n",
       "      <th>player_of_match</th>\n",
       "      <th>venue</th>\n",
       "      <th>umpire1</th>\n",
       "      <th>umpire2</th>\n",
       "      <th>umpire3</th>\n",
       "    </tr>\n",
       "  </thead>\n",
       "  <tbody>\n",
       "    <tr>\n",
       "      <th>0</th>\n",
       "      <td>1</td>\n",
       "      <td>2017</td>\n",
       "      <td>Hyderabad</td>\n",
       "      <td>2017-04-05</td>\n",
       "      <td>Sunrisers Hyderabad</td>\n",
       "      <td>Royal Challengers Bangalore</td>\n",
       "      <td>Royal Challengers Bangalore</td>\n",
       "      <td>field</td>\n",
       "      <td>normal</td>\n",
       "      <td>0</td>\n",
       "      <td>Sunrisers Hyderabad</td>\n",
       "      <td>35</td>\n",
       "      <td>0</td>\n",
       "      <td>Yuvraj Singh</td>\n",
       "      <td>Rajiv Gandhi International Stadium, Uppal</td>\n",
       "      <td>AY Dandekar</td>\n",
       "      <td>NJ Llong</td>\n",
       "      <td>NaN</td>\n",
       "    </tr>\n",
       "    <tr>\n",
       "      <th>1</th>\n",
       "      <td>2</td>\n",
       "      <td>2017</td>\n",
       "      <td>Pune</td>\n",
       "      <td>2017-04-06</td>\n",
       "      <td>Mumbai Indians</td>\n",
       "      <td>Rising Pune Supergiant</td>\n",
       "      <td>Rising Pune Supergiant</td>\n",
       "      <td>field</td>\n",
       "      <td>normal</td>\n",
       "      <td>0</td>\n",
       "      <td>Rising Pune Supergiant</td>\n",
       "      <td>0</td>\n",
       "      <td>7</td>\n",
       "      <td>SPD Smith</td>\n",
       "      <td>Maharashtra Cricket Association Stadium</td>\n",
       "      <td>A Nand Kishore</td>\n",
       "      <td>S Ravi</td>\n",
       "      <td>NaN</td>\n",
       "    </tr>\n",
       "    <tr>\n",
       "      <th>2</th>\n",
       "      <td>3</td>\n",
       "      <td>2017</td>\n",
       "      <td>Rajkot</td>\n",
       "      <td>2017-04-07</td>\n",
       "      <td>Gujarat Lions</td>\n",
       "      <td>Kolkata Knight Riders</td>\n",
       "      <td>Kolkata Knight Riders</td>\n",
       "      <td>field</td>\n",
       "      <td>normal</td>\n",
       "      <td>0</td>\n",
       "      <td>Kolkata Knight Riders</td>\n",
       "      <td>0</td>\n",
       "      <td>10</td>\n",
       "      <td>CA Lynn</td>\n",
       "      <td>Saurashtra Cricket Association Stadium</td>\n",
       "      <td>Nitin Menon</td>\n",
       "      <td>CK Nandan</td>\n",
       "      <td>NaN</td>\n",
       "    </tr>\n",
       "  </tbody>\n",
       "</table>\n",
       "</div>"
      ],
      "text/plain": [
       "   id  season       city        date                team1  \\\n",
       "0   1    2017  Hyderabad  2017-04-05  Sunrisers Hyderabad   \n",
       "1   2    2017       Pune  2017-04-06       Mumbai Indians   \n",
       "2   3    2017     Rajkot  2017-04-07        Gujarat Lions   \n",
       "\n",
       "                         team2                  toss_winner toss_decision  \\\n",
       "0  Royal Challengers Bangalore  Royal Challengers Bangalore         field   \n",
       "1       Rising Pune Supergiant       Rising Pune Supergiant         field   \n",
       "2        Kolkata Knight Riders        Kolkata Knight Riders         field   \n",
       "\n",
       "   result  dl_applied                  winner  win_by_runs  win_by_wickets  \\\n",
       "0  normal           0     Sunrisers Hyderabad           35               0   \n",
       "1  normal           0  Rising Pune Supergiant            0               7   \n",
       "2  normal           0   Kolkata Knight Riders            0              10   \n",
       "\n",
       "  player_of_match                                      venue         umpire1  \\\n",
       "0    Yuvraj Singh  Rajiv Gandhi International Stadium, Uppal     AY Dandekar   \n",
       "1       SPD Smith    Maharashtra Cricket Association Stadium  A Nand Kishore   \n",
       "2         CA Lynn     Saurashtra Cricket Association Stadium     Nitin Menon   \n",
       "\n",
       "     umpire2  umpire3  \n",
       "0   NJ Llong      NaN  \n",
       "1     S Ravi      NaN  \n",
       "2  CK Nandan      NaN  "
      ]
     },
     "execution_count": 3,
     "metadata": {},
     "output_type": "execute_result"
    }
   ],
   "source": [
    "#Ensure that the file is being read correctly\n",
    "ipldelivery.head(5)\n",
    "iplmatches.head(3)"
   ]
  },
  {
   "cell_type": "code",
   "execution_count": 4,
   "metadata": {
    "_uuid": "b14bc55d1fac5fb18a2f693478af513a16e73064"
   },
   "outputs": [
    {
     "data": {
      "text/html": [
       "<div>\n",
       "<style scoped>\n",
       "    .dataframe tbody tr th:only-of-type {\n",
       "        vertical-align: middle;\n",
       "    }\n",
       "\n",
       "    .dataframe tbody tr th {\n",
       "        vertical-align: top;\n",
       "    }\n",
       "\n",
       "    .dataframe thead th {\n",
       "        text-align: right;\n",
       "    }\n",
       "</style>\n",
       "<table border=\"1\" class=\"dataframe\">\n",
       "  <thead>\n",
       "    <tr style=\"text-align: right;\">\n",
       "      <th></th>\n",
       "      <th>season</th>\n",
       "      <th>match_id</th>\n",
       "      <th>inning</th>\n",
       "      <th>batting_team</th>\n",
       "      <th>batsman</th>\n",
       "      <th>batsman_runs</th>\n",
       "      <th>balls_faced</th>\n",
       "      <th>4s</th>\n",
       "      <th>6s</th>\n",
       "      <th>SR</th>\n",
       "      <th>dismissal_kind</th>\n",
       "      <th>fielder</th>\n",
       "    </tr>\n",
       "  </thead>\n",
       "  <tbody>\n",
       "    <tr>\n",
       "      <th>0</th>\n",
       "      <td>2017</td>\n",
       "      <td>1</td>\n",
       "      <td>1</td>\n",
       "      <td>Sunrisers Hyderabad</td>\n",
       "      <td>BCJ Cutting</td>\n",
       "      <td>16</td>\n",
       "      <td>6.0</td>\n",
       "      <td>0.0</td>\n",
       "      <td>2.0</td>\n",
       "      <td>266.67</td>\n",
       "      <td>NaN</td>\n",
       "      <td>NaN</td>\n",
       "    </tr>\n",
       "    <tr>\n",
       "      <th>1</th>\n",
       "      <td>2017</td>\n",
       "      <td>1</td>\n",
       "      <td>1</td>\n",
       "      <td>Sunrisers Hyderabad</td>\n",
       "      <td>DA Warner</td>\n",
       "      <td>14</td>\n",
       "      <td>8.0</td>\n",
       "      <td>2.0</td>\n",
       "      <td>1.0</td>\n",
       "      <td>175.00</td>\n",
       "      <td>caught</td>\n",
       "      <td>Mandeep Singh</td>\n",
       "    </tr>\n",
       "    <tr>\n",
       "      <th>2</th>\n",
       "      <td>2017</td>\n",
       "      <td>1</td>\n",
       "      <td>1</td>\n",
       "      <td>Sunrisers Hyderabad</td>\n",
       "      <td>DJ Hooda</td>\n",
       "      <td>16</td>\n",
       "      <td>12.0</td>\n",
       "      <td>0.0</td>\n",
       "      <td>1.0</td>\n",
       "      <td>133.33</td>\n",
       "      <td>NaN</td>\n",
       "      <td>NaN</td>\n",
       "    </tr>\n",
       "    <tr>\n",
       "      <th>3</th>\n",
       "      <td>2017</td>\n",
       "      <td>1</td>\n",
       "      <td>1</td>\n",
       "      <td>Sunrisers Hyderabad</td>\n",
       "      <td>MC Henriques</td>\n",
       "      <td>52</td>\n",
       "      <td>37.0</td>\n",
       "      <td>3.0</td>\n",
       "      <td>2.0</td>\n",
       "      <td>140.54</td>\n",
       "      <td>caught</td>\n",
       "      <td>Sachin Baby</td>\n",
       "    </tr>\n",
       "    <tr>\n",
       "      <th>4</th>\n",
       "      <td>2017</td>\n",
       "      <td>1</td>\n",
       "      <td>1</td>\n",
       "      <td>Sunrisers Hyderabad</td>\n",
       "      <td>S Dhawan</td>\n",
       "      <td>40</td>\n",
       "      <td>31.0</td>\n",
       "      <td>5.0</td>\n",
       "      <td>0.0</td>\n",
       "      <td>129.03</td>\n",
       "      <td>caught</td>\n",
       "      <td>Sachin Baby</td>\n",
       "    </tr>\n",
       "    <tr>\n",
       "      <th>5</th>\n",
       "      <td>2017</td>\n",
       "      <td>1</td>\n",
       "      <td>1</td>\n",
       "      <td>Sunrisers Hyderabad</td>\n",
       "      <td>Yuvraj Singh</td>\n",
       "      <td>62</td>\n",
       "      <td>27.0</td>\n",
       "      <td>7.0</td>\n",
       "      <td>3.0</td>\n",
       "      <td>229.63</td>\n",
       "      <td>bowled</td>\n",
       "      <td>NaN</td>\n",
       "    </tr>\n",
       "    <tr>\n",
       "      <th>6</th>\n",
       "      <td>2017</td>\n",
       "      <td>1</td>\n",
       "      <td>2</td>\n",
       "      <td>Royal Challengers Bangalore</td>\n",
       "      <td>A Choudhary</td>\n",
       "      <td>6</td>\n",
       "      <td>2.0</td>\n",
       "      <td>0.0</td>\n",
       "      <td>1.0</td>\n",
       "      <td>300.00</td>\n",
       "      <td>NaN</td>\n",
       "      <td>NaN</td>\n",
       "    </tr>\n",
       "    <tr>\n",
       "      <th>7</th>\n",
       "      <td>2017</td>\n",
       "      <td>1</td>\n",
       "      <td>2</td>\n",
       "      <td>Royal Challengers Bangalore</td>\n",
       "      <td>CH Gayle</td>\n",
       "      <td>32</td>\n",
       "      <td>21.0</td>\n",
       "      <td>2.0</td>\n",
       "      <td>3.0</td>\n",
       "      <td>152.38</td>\n",
       "      <td>caught</td>\n",
       "      <td>DA Warner</td>\n",
       "    </tr>\n",
       "    <tr>\n",
       "      <th>8</th>\n",
       "      <td>2017</td>\n",
       "      <td>1</td>\n",
       "      <td>2</td>\n",
       "      <td>Royal Challengers Bangalore</td>\n",
       "      <td>KM Jadhav</td>\n",
       "      <td>31</td>\n",
       "      <td>16.0</td>\n",
       "      <td>4.0</td>\n",
       "      <td>1.0</td>\n",
       "      <td>193.75</td>\n",
       "      <td>run out</td>\n",
       "      <td>BCJ Cutting</td>\n",
       "    </tr>\n",
       "    <tr>\n",
       "      <th>9</th>\n",
       "      <td>2017</td>\n",
       "      <td>1</td>\n",
       "      <td>2</td>\n",
       "      <td>Royal Challengers Bangalore</td>\n",
       "      <td>Mandeep Singh</td>\n",
       "      <td>24</td>\n",
       "      <td>16.0</td>\n",
       "      <td>5.0</td>\n",
       "      <td>0.0</td>\n",
       "      <td>150.00</td>\n",
       "      <td>bowled</td>\n",
       "      <td>NaN</td>\n",
       "    </tr>\n",
       "  </tbody>\n",
       "</table>\n",
       "</div>"
      ],
      "text/plain": [
       "   season  match_id  inning                 batting_team        batsman  \\\n",
       "0    2017         1       1          Sunrisers Hyderabad    BCJ Cutting   \n",
       "1    2017         1       1          Sunrisers Hyderabad      DA Warner   \n",
       "2    2017         1       1          Sunrisers Hyderabad       DJ Hooda   \n",
       "3    2017         1       1          Sunrisers Hyderabad   MC Henriques   \n",
       "4    2017         1       1          Sunrisers Hyderabad       S Dhawan   \n",
       "5    2017         1       1          Sunrisers Hyderabad   Yuvraj Singh   \n",
       "6    2017         1       2  Royal Challengers Bangalore    A Choudhary   \n",
       "7    2017         1       2  Royal Challengers Bangalore       CH Gayle   \n",
       "8    2017         1       2  Royal Challengers Bangalore      KM Jadhav   \n",
       "9    2017         1       2  Royal Challengers Bangalore  Mandeep Singh   \n",
       "\n",
       "   batsman_runs  balls_faced   4s   6s      SR dismissal_kind        fielder  \n",
       "0            16          6.0  0.0  2.0  266.67            NaN            NaN  \n",
       "1            14          8.0  2.0  1.0  175.00         caught  Mandeep Singh  \n",
       "2            16         12.0  0.0  1.0  133.33            NaN            NaN  \n",
       "3            52         37.0  3.0  2.0  140.54         caught    Sachin Baby  \n",
       "4            40         31.0  5.0  0.0  129.03         caught    Sachin Baby  \n",
       "5            62         27.0  7.0  3.0  229.63         bowled            NaN  \n",
       "6             6          2.0  0.0  1.0  300.00            NaN            NaN  \n",
       "7            32         21.0  2.0  3.0  152.38         caught      DA Warner  \n",
       "8            31         16.0  4.0  1.0  193.75        run out    BCJ Cutting  \n",
       "9            24         16.0  5.0  0.0  150.00         bowled            NaN  "
      ]
     },
     "execution_count": 4,
     "metadata": {},
     "output_type": "execute_result"
    }
   ],
   "source": [
    "## BATSMEN DATA GROUPED BY MATCH\n",
    "# Here the data is grouped to provide deeper depth of statistics and later for the team classificaiton\n",
    "\n",
    "batsman_grp = ipldelivery.groupby([\"match_id\", \"inning\", \"batting_team\", \"batsman\"])\n",
    "batsmen = batsman_grp[\"batsman_runs\"].sum().reset_index()\n",
    "\n",
    "# Ignore the wide balls.\n",
    "balls_faced = ipldelivery[ipldelivery[\"wide_runs\"] == 0]\n",
    "balls_faced = balls_faced.groupby([\"match_id\", \"inning\", \"batsman\"])[\"batsman_runs\"].count().reset_index()\n",
    "balls_faced.columns = [\"match_id\", \"inning\", \"batsman\", \"balls_faced\"]\n",
    "batsmen = batsmen.merge(balls_faced, left_on=[\"match_id\", \"inning\", \"batsman\"], \n",
    "                        right_on=[\"match_id\", \"inning\", \"batsman\"], how=\"left\")\n",
    "\n",
    "fours = ipldelivery[ ipldelivery[\"batsman_runs\"] == 4]\n",
    "sixes = ipldelivery[ ipldelivery[\"batsman_runs\"] == 6]\n",
    "\n",
    "fours_per_batsman = fours.groupby([\"match_id\", \"inning\", \"batsman\"])[\"batsman_runs\"].count().reset_index()\n",
    "sixes_per_batsman = sixes.groupby([\"match_id\", \"inning\", \"batsman\"])[\"batsman_runs\"].count().reset_index()\n",
    "\n",
    "fours_per_batsman.columns = [\"match_id\", \"inning\", \"batsman\", \"4s\"]\n",
    "sixes_per_batsman.columns = [\"match_id\", \"inning\", \"batsman\", \"6s\"]\n",
    "\n",
    "batsmen = batsmen.merge(fours_per_batsman, left_on=[\"match_id\", \"inning\", \"batsman\"], \n",
    "                        right_on=[\"match_id\", \"inning\", \"batsman\"], how=\"left\")\n",
    "batsmen = batsmen.merge(sixes_per_batsman, left_on=[\"match_id\", \"inning\", \"batsman\"], \n",
    "                        right_on=[\"match_id\", \"inning\", \"batsman\"], how=\"left\")\n",
    "batsmen['SR'] = np.round(batsmen['batsman_runs'] / batsmen['balls_faced'] * 100, 2)\n",
    "\n",
    "for col in [\"batsman_runs\", \"4s\", \"6s\", \"balls_faced\", \"SR\"]:\n",
    "    batsmen[col] = batsmen[col].fillna(0)\n",
    "\n",
    "dismissals = ipldelivery[ pd.notnull(ipldelivery[\"player_dismissed\"])]\n",
    "dismissals = dismissals[[\"match_id\", \"inning\", \"player_dismissed\", \"dismissal_kind\", \"fielder\"]]\n",
    "dismissals.rename(columns={\"player_dismissed\": \"batsman\"}, inplace=True)\n",
    "batsmen = batsmen.merge(dismissals, left_on=[\"match_id\", \"inning\", \"batsman\"], \n",
    "                        right_on=[\"match_id\", \"inning\", \"batsman\"], how=\"left\")\n",
    "\n",
    "batsmen = iplmatches[['id','season']].merge(batsmen, left_on = 'id', right_on = 'match_id', how = 'left').drop('id', axis = 1)\n",
    "batsmen.head(10)"
   ]
  },
  {
   "cell_type": "code",
   "execution_count": 5,
   "metadata": {
    "_uuid": "2238b67daf20e8ae453503568105f19785d002fe"
   },
   "outputs": [
    {
     "name": "stderr",
     "output_type": "stream",
     "text": [
      "C:\\Users\\Ammu\\anaconda3\\lib\\site-packages\\ipykernel_launcher.py:5: FutureWarning: Indexing with multiple keys (implicitly converted to a tuple of keys) will be deprecated, use a list instead.\n",
      "  \"\"\"\n"
     ]
    },
    {
     "data": {
      "text/html": [
       "<div>\n",
       "<style scoped>\n",
       "    .dataframe tbody tr th:only-of-type {\n",
       "        vertical-align: middle;\n",
       "    }\n",
       "\n",
       "    .dataframe tbody tr th {\n",
       "        vertical-align: top;\n",
       "    }\n",
       "\n",
       "    .dataframe thead th {\n",
       "        text-align: right;\n",
       "    }\n",
       "</style>\n",
       "<table border=\"1\" class=\"dataframe\">\n",
       "  <thead>\n",
       "    <tr style=\"text-align: right;\">\n",
       "      <th></th>\n",
       "      <th>season</th>\n",
       "      <th>match_id</th>\n",
       "      <th>inning</th>\n",
       "      <th>bowling_team</th>\n",
       "      <th>bowler</th>\n",
       "      <th>over</th>\n",
       "      <th>wide_runs</th>\n",
       "      <th>noball_runs</th>\n",
       "      <th>runs</th>\n",
       "      <th>extras</th>\n",
       "      <th>wickets</th>\n",
       "      <th>Econ</th>\n",
       "    </tr>\n",
       "  </thead>\n",
       "  <tbody>\n",
       "    <tr>\n",
       "      <th>0</th>\n",
       "      <td>2017</td>\n",
       "      <td>1</td>\n",
       "      <td>1</td>\n",
       "      <td>Royal Challengers Bangalore</td>\n",
       "      <td>A Choudhary</td>\n",
       "      <td>4</td>\n",
       "      <td>3</td>\n",
       "      <td>1</td>\n",
       "      <td>55</td>\n",
       "      <td>4</td>\n",
       "      <td>1.0</td>\n",
       "      <td>13.75</td>\n",
       "    </tr>\n",
       "    <tr>\n",
       "      <th>1</th>\n",
       "      <td>2017</td>\n",
       "      <td>1</td>\n",
       "      <td>1</td>\n",
       "      <td>Royal Challengers Bangalore</td>\n",
       "      <td>S Aravind</td>\n",
       "      <td>3</td>\n",
       "      <td>0</td>\n",
       "      <td>0</td>\n",
       "      <td>36</td>\n",
       "      <td>0</td>\n",
       "      <td>0.0</td>\n",
       "      <td>12.00</td>\n",
       "    </tr>\n",
       "    <tr>\n",
       "      <th>2</th>\n",
       "      <td>2017</td>\n",
       "      <td>1</td>\n",
       "      <td>1</td>\n",
       "      <td>Royal Challengers Bangalore</td>\n",
       "      <td>SR Watson</td>\n",
       "      <td>3</td>\n",
       "      <td>0</td>\n",
       "      <td>0</td>\n",
       "      <td>41</td>\n",
       "      <td>0</td>\n",
       "      <td>0.0</td>\n",
       "      <td>13.67</td>\n",
       "    </tr>\n",
       "    <tr>\n",
       "      <th>3</th>\n",
       "      <td>2017</td>\n",
       "      <td>1</td>\n",
       "      <td>1</td>\n",
       "      <td>Royal Challengers Bangalore</td>\n",
       "      <td>STR Binny</td>\n",
       "      <td>1</td>\n",
       "      <td>0</td>\n",
       "      <td>0</td>\n",
       "      <td>10</td>\n",
       "      <td>0</td>\n",
       "      <td>1.0</td>\n",
       "      <td>10.00</td>\n",
       "    </tr>\n",
       "    <tr>\n",
       "      <th>4</th>\n",
       "      <td>2017</td>\n",
       "      <td>1</td>\n",
       "      <td>1</td>\n",
       "      <td>Royal Challengers Bangalore</td>\n",
       "      <td>TM Head</td>\n",
       "      <td>1</td>\n",
       "      <td>0</td>\n",
       "      <td>0</td>\n",
       "      <td>11</td>\n",
       "      <td>0</td>\n",
       "      <td>0.0</td>\n",
       "      <td>11.00</td>\n",
       "    </tr>\n",
       "    <tr>\n",
       "      <th>5</th>\n",
       "      <td>2017</td>\n",
       "      <td>1</td>\n",
       "      <td>1</td>\n",
       "      <td>Royal Challengers Bangalore</td>\n",
       "      <td>TS Mills</td>\n",
       "      <td>4</td>\n",
       "      <td>2</td>\n",
       "      <td>0</td>\n",
       "      <td>31</td>\n",
       "      <td>2</td>\n",
       "      <td>1.0</td>\n",
       "      <td>7.75</td>\n",
       "    </tr>\n",
       "    <tr>\n",
       "      <th>6</th>\n",
       "      <td>2017</td>\n",
       "      <td>1</td>\n",
       "      <td>1</td>\n",
       "      <td>Royal Challengers Bangalore</td>\n",
       "      <td>YS Chahal</td>\n",
       "      <td>4</td>\n",
       "      <td>0</td>\n",
       "      <td>0</td>\n",
       "      <td>22</td>\n",
       "      <td>0</td>\n",
       "      <td>1.0</td>\n",
       "      <td>5.50</td>\n",
       "    </tr>\n",
       "    <tr>\n",
       "      <th>7</th>\n",
       "      <td>2017</td>\n",
       "      <td>1</td>\n",
       "      <td>2</td>\n",
       "      <td>Sunrisers Hyderabad</td>\n",
       "      <td>A Nehra</td>\n",
       "      <td>4</td>\n",
       "      <td>1</td>\n",
       "      <td>0</td>\n",
       "      <td>42</td>\n",
       "      <td>1</td>\n",
       "      <td>2.0</td>\n",
       "      <td>10.50</td>\n",
       "    </tr>\n",
       "    <tr>\n",
       "      <th>8</th>\n",
       "      <td>2017</td>\n",
       "      <td>1</td>\n",
       "      <td>2</td>\n",
       "      <td>Sunrisers Hyderabad</td>\n",
       "      <td>B Kumar</td>\n",
       "      <td>4</td>\n",
       "      <td>1</td>\n",
       "      <td>0</td>\n",
       "      <td>27</td>\n",
       "      <td>1</td>\n",
       "      <td>2.0</td>\n",
       "      <td>6.75</td>\n",
       "    </tr>\n",
       "    <tr>\n",
       "      <th>9</th>\n",
       "      <td>2017</td>\n",
       "      <td>1</td>\n",
       "      <td>2</td>\n",
       "      <td>Sunrisers Hyderabad</td>\n",
       "      <td>BCJ Cutting</td>\n",
       "      <td>4</td>\n",
       "      <td>2</td>\n",
       "      <td>0</td>\n",
       "      <td>35</td>\n",
       "      <td>2</td>\n",
       "      <td>0.0</td>\n",
       "      <td>8.75</td>\n",
       "    </tr>\n",
       "  </tbody>\n",
       "</table>\n",
       "</div>"
      ],
      "text/plain": [
       "   season  match_id  inning                 bowling_team       bowler  over  \\\n",
       "0    2017         1       1  Royal Challengers Bangalore  A Choudhary     4   \n",
       "1    2017         1       1  Royal Challengers Bangalore    S Aravind     3   \n",
       "2    2017         1       1  Royal Challengers Bangalore    SR Watson     3   \n",
       "3    2017         1       1  Royal Challengers Bangalore    STR Binny     1   \n",
       "4    2017         1       1  Royal Challengers Bangalore      TM Head     1   \n",
       "5    2017         1       1  Royal Challengers Bangalore     TS Mills     4   \n",
       "6    2017         1       1  Royal Challengers Bangalore    YS Chahal     4   \n",
       "7    2017         1       2          Sunrisers Hyderabad      A Nehra     4   \n",
       "8    2017         1       2          Sunrisers Hyderabad      B Kumar     4   \n",
       "9    2017         1       2          Sunrisers Hyderabad  BCJ Cutting     4   \n",
       "\n",
       "   wide_runs  noball_runs  runs  extras  wickets   Econ  \n",
       "0          3            1    55       4      1.0  13.75  \n",
       "1          0            0    36       0      0.0  12.00  \n",
       "2          0            0    41       0      0.0  13.67  \n",
       "3          0            0    10       0      1.0  10.00  \n",
       "4          0            0    11       0      0.0  11.00  \n",
       "5          2            0    31       2      1.0   7.75  \n",
       "6          0            0    22       0      1.0   5.50  \n",
       "7          1            0    42       1      2.0  10.50  \n",
       "8          1            0    27       1      2.0   6.75  \n",
       "9          2            0    35       2      0.0   8.75  "
      ]
     },
     "execution_count": 5,
     "metadata": {},
     "output_type": "execute_result"
    }
   ],
   "source": [
    "## Bowlers grouped by sets of data\n",
    "# Data is grouped for bowlers to provide greater depth of information. Very important for the regression analysis.\n",
    "\n",
    "bowler_grp = ipldelivery.groupby([\"match_id\", \"inning\", \"bowling_team\", \"bowler\", \"over\"])\n",
    "bowlers = bowler_grp[\"total_runs\", \"wide_runs\", \"bye_runs\", \"legbye_runs\", \"noball_runs\"].sum().reset_index()\n",
    "\n",
    "bowlers[\"runs\"] = bowlers[\"total_runs\"] - (bowlers[\"bye_runs\"] + bowlers[\"legbye_runs\"])\n",
    "bowlers[\"extras\"] = bowlers[\"wide_runs\"] + bowlers[\"noball_runs\"]\n",
    "\n",
    "del( bowlers[\"bye_runs\"])\n",
    "del( bowlers[\"legbye_runs\"])\n",
    "del( bowlers[\"total_runs\"])\n",
    "\n",
    "dismissal_kinds_for_bowler = [\"bowled\", \"caught\", \"lbw\", \"stumped\", \"caught and bowled\", \"hit wicket\"]\n",
    "dismissals = ipldelivery[ipldelivery[\"dismissal_kind\"].isin(dismissal_kinds_for_bowler)]\n",
    "dismissals = dismissals.groupby([\"match_id\", \"inning\", \"bowling_team\", \"bowler\", \"over\"])[\"dismissal_kind\"].count().reset_index()\n",
    "dismissals.rename(columns={\"dismissal_kind\": \"wickets\"}, inplace=True)\n",
    "\n",
    "bowlers = bowlers.merge(dismissals, left_on=[\"match_id\", \"inning\", \"bowling_team\", \"bowler\", \"over\"], \n",
    "                        right_on=[\"match_id\", \"inning\", \"bowling_team\", \"bowler\", \"over\"], how=\"left\")\n",
    "bowlers[\"wickets\"] = bowlers[\"wickets\"].fillna(0)\n",
    "\n",
    "bowlers_over = bowlers.groupby(['match_id', 'inning', 'bowling_team', 'bowler'])['over'].count().reset_index()\n",
    "bowlers = bowlers.groupby(['match_id', 'inning', 'bowling_team', 'bowler']).sum().reset_index().drop('over', 1)\n",
    "bowlers = bowlers_over.merge(bowlers, on=[\"match_id\", \"inning\", \"bowling_team\", \"bowler\"], how = 'left')\n",
    "bowlers['Econ'] = np.round(bowlers['runs'] / bowlers['over'] , 2)\n",
    "bowlers = iplmatches[['id','season']].merge(bowlers, left_on = 'id', right_on = 'match_id', how = 'left').drop('id', axis = 1)\n",
    "\n",
    "bowlers.head(10)"
   ]
  },
  {
   "cell_type": "code",
   "execution_count": 6,
   "metadata": {
    "_uuid": "1fb1030282681c758cac5dea7ebd4a57b80d3d95"
   },
   "outputs": [
    {
     "data": {
      "text/html": [
       "<div>\n",
       "<style scoped>\n",
       "    .dataframe tbody tr th:only-of-type {\n",
       "        vertical-align: middle;\n",
       "    }\n",
       "\n",
       "    .dataframe tbody tr th {\n",
       "        vertical-align: top;\n",
       "    }\n",
       "\n",
       "    .dataframe thead th {\n",
       "        text-align: right;\n",
       "    }\n",
       "</style>\n",
       "<table border=\"1\" class=\"dataframe\">\n",
       "  <thead>\n",
       "    <tr style=\"text-align: right;\">\n",
       "      <th></th>\n",
       "      <th>id</th>\n",
       "      <th>season</th>\n",
       "      <th>dl_applied</th>\n",
       "      <th>win_by_runs</th>\n",
       "      <th>win_by_wickets</th>\n",
       "      <th>umpire3</th>\n",
       "    </tr>\n",
       "  </thead>\n",
       "  <tbody>\n",
       "    <tr>\n",
       "      <th>count</th>\n",
       "      <td>636.000000</td>\n",
       "      <td>636.000000</td>\n",
       "      <td>636.000000</td>\n",
       "      <td>636.000000</td>\n",
       "      <td>636.000000</td>\n",
       "      <td>0.0</td>\n",
       "    </tr>\n",
       "    <tr>\n",
       "      <th>mean</th>\n",
       "      <td>318.500000</td>\n",
       "      <td>2012.490566</td>\n",
       "      <td>0.025157</td>\n",
       "      <td>13.682390</td>\n",
       "      <td>3.372642</td>\n",
       "      <td>NaN</td>\n",
       "    </tr>\n",
       "    <tr>\n",
       "      <th>std</th>\n",
       "      <td>183.741666</td>\n",
       "      <td>2.773026</td>\n",
       "      <td>0.156726</td>\n",
       "      <td>23.908877</td>\n",
       "      <td>3.420338</td>\n",
       "      <td>NaN</td>\n",
       "    </tr>\n",
       "    <tr>\n",
       "      <th>min</th>\n",
       "      <td>1.000000</td>\n",
       "      <td>2008.000000</td>\n",
       "      <td>0.000000</td>\n",
       "      <td>0.000000</td>\n",
       "      <td>0.000000</td>\n",
       "      <td>NaN</td>\n",
       "    </tr>\n",
       "    <tr>\n",
       "      <th>25%</th>\n",
       "      <td>159.750000</td>\n",
       "      <td>2010.000000</td>\n",
       "      <td>0.000000</td>\n",
       "      <td>0.000000</td>\n",
       "      <td>0.000000</td>\n",
       "      <td>NaN</td>\n",
       "    </tr>\n",
       "    <tr>\n",
       "      <th>50%</th>\n",
       "      <td>318.500000</td>\n",
       "      <td>2012.000000</td>\n",
       "      <td>0.000000</td>\n",
       "      <td>0.000000</td>\n",
       "      <td>4.000000</td>\n",
       "      <td>NaN</td>\n",
       "    </tr>\n",
       "    <tr>\n",
       "      <th>75%</th>\n",
       "      <td>477.250000</td>\n",
       "      <td>2015.000000</td>\n",
       "      <td>0.000000</td>\n",
       "      <td>20.000000</td>\n",
       "      <td>7.000000</td>\n",
       "      <td>NaN</td>\n",
       "    </tr>\n",
       "    <tr>\n",
       "      <th>max</th>\n",
       "      <td>636.000000</td>\n",
       "      <td>2017.000000</td>\n",
       "      <td>1.000000</td>\n",
       "      <td>146.000000</td>\n",
       "      <td>10.000000</td>\n",
       "      <td>NaN</td>\n",
       "    </tr>\n",
       "  </tbody>\n",
       "</table>\n",
       "</div>"
      ],
      "text/plain": [
       "               id       season  dl_applied  win_by_runs  win_by_wickets  \\\n",
       "count  636.000000   636.000000  636.000000   636.000000      636.000000   \n",
       "mean   318.500000  2012.490566    0.025157    13.682390        3.372642   \n",
       "std    183.741666     2.773026    0.156726    23.908877        3.420338   \n",
       "min      1.000000  2008.000000    0.000000     0.000000        0.000000   \n",
       "25%    159.750000  2010.000000    0.000000     0.000000        0.000000   \n",
       "50%    318.500000  2012.000000    0.000000     0.000000        4.000000   \n",
       "75%    477.250000  2015.000000    0.000000    20.000000        7.000000   \n",
       "max    636.000000  2017.000000    1.000000   146.000000       10.000000   \n",
       "\n",
       "       umpire3  \n",
       "count      0.0  \n",
       "mean       NaN  \n",
       "std        NaN  \n",
       "min        NaN  \n",
       "25%        NaN  \n",
       "50%        NaN  \n",
       "75%        NaN  \n",
       "max        NaN  "
      ]
     },
     "execution_count": 6,
     "metadata": {},
     "output_type": "execute_result"
    }
   ],
   "source": [
    "# Ensure the data is grouped carefully. Name them accordingly as above. \n",
    "iplmatches.describe()"
   ]
  },
  {
   "cell_type": "markdown",
   "metadata": {
    "_uuid": "f7e62dd713e24efab7056617654896350be4f1c6"
   },
   "source": [
    "Below is some Data Visualization techniques and basic Statistical Techniques"
   ]
  },
  {
   "cell_type": "code",
   "execution_count": 7,
   "metadata": {
    "_uuid": "f1140668c7f508f700605e7ae2c1db0e9a5f4399"
   },
   "outputs": [
    {
     "data": {
      "image/png": "[encoded data removed]",
      "text/plain": [
       "<Figure size 432x288 with 1 Axes>"
      ]
     },
     "metadata": {
      "needs_background": "light"
     },
     "output_type": "display_data"
    }
   ],
   "source": [
    "sns.countplot(x = 'season', data = iplmatches)\n",
    "plt.show()"
   ]
  },
  {
   "cell_type": "code",
   "execution_count": 8,
   "metadata": {
    "_uuid": "1760b008017e0eaee00cb0e2911a11b0c6e6cc77"
   },
   "outputs": [
    {
     "data": {
      "text/plain": [
       "(array([ 0,  1,  2,  3,  4,  5,  6,  7,  8,  9, 10, 11, 12, 13]),\n",
       " <a list of 14 Text xticklabel objects>)"
      ]
     },
     "execution_count": 8,
     "metadata": {},
     "output_type": "execute_result"
    },
    {
     "data": {
      "image/png": "[encoded data removed]",
      "text/plain": [
       "<Figure size 432x288 with 1 Axes>"
      ]
     },
     "metadata": {
      "needs_background": "light"
     },
     "output_type": "display_data"
    }
   ],
   "source": [
    "sns.countplot( x = 'toss_winner', data = iplmatches)\n",
    "plt.xticks(rotation='vertical')"
   ]
  },
  {
   "cell_type": "code",
   "execution_count": 9,
   "metadata": {
    "_uuid": "b31eec9ca59b872875b49e5272ae2d5de81dfbf9"
   },
   "outputs": [
    {
     "data": {
      "text/plain": [
       "<matplotlib.axes._subplots.AxesSubplot at 0x21dc461df08>"
      ]
     },
     "execution_count": 9,
     "metadata": {},
     "output_type": "execute_result"
    },
    {
     "data": {
      "image/png": "[encoded data removed]",
      "text/plain": [
       "<Figure size 432x288 with 1 Axes>"
      ]
     },
     "metadata": {
      "needs_background": "light"
     },
     "output_type": "display_data"
    }
   ],
   "source": [
    "winneroft = iplmatches['toss_winner'] == iplmatches['winner']\n",
    "winneroft.groupby(winneroft).size()\n",
    "sns.countplot(winneroft)\n"
   ]
  },
  {
   "cell_type": "code",
   "execution_count": 10,
   "metadata": {
    "_uuid": "8ebee6f2438a7a26ed40b1f3b0d522984d7e8676"
   },
   "outputs": [
    {
     "data": {
      "image/png": "[encoded data removed]",
      "text/plain": [
       "<Figure size 432x288 with 1 Axes>"
      ]
     },
     "metadata": {
      "needs_background": "light"
     },
     "output_type": "display_data"
    }
   ],
   "source": [
    "winneroftoss = iplmatches[(iplmatches['toss_winner']) == (iplmatches['winner'])]\n",
    "\n",
    "wot = sns.countplot( x = 'winner', hue='season', data=winneroftoss)\n",
    "sns.set(rc={'figure.figsize':(8,6)})\n",
    "plt.xticks(rotation = 'vertical')\n",
    "plt.legend(bbox_to_anchor=(1.05, 1), loc=2, borderaxespad=0.)\n",
    "plt.xlabel(\"Teams\")\n",
    "plt.ylabel(\"Number of Wins\")\n",
    "plt.title(\"Number of Teams who won, given they win the toss, every season\")\n",
    "plt.show(wot)"
   ]
  },
  {
   "cell_type": "code",
   "execution_count": 11,
   "metadata": {
    "_uuid": "3527f526850b7336548c6ac84cdd18dea441c7b7"
   },
   "outputs": [
    {
     "data": {
      "image/png": "[encoded data removed]",
      "text/plain": [
       "<Figure size 576x432 with 1 Axes>"
      ]
     },
     "metadata": {},
     "output_type": "display_data"
    }
   ],
   "source": [
    "top_players = iplmatches.player_of_match.value_counts()[:10]\n",
    "#sns.barplot(x=\"day\", y=\"total_bill\", data=tips)\n",
    "fig, ax = plt.subplots()\n",
    "ax.set_ylim([0,20])\n",
    "ax.set_ylabel(\"Number of Awards\")\n",
    "ax.set_xlabel(\"Name of Players\")\n",
    "ax.set_title(\"Top player of the match Winners\")\n",
    "#top_players.plot.bar()\n",
    "sns.barplot(x = top_players.index, y = top_players, orient='v', palette=\"RdBu\");\n",
    "plt.xticks(rotation = 'vertical')\n",
    "plt.show()"
   ]
  },
  {
   "cell_type": "code",
   "execution_count": 12,
   "metadata": {
    "_uuid": "5ba135588365f94249adbf045dac497194e38399"
   },
   "outputs": [
    {
     "data": {
      "image/png": "[encoded data removed]",
      "text/plain": [
       "<Figure size 576x432 with 1 Axes>"
      ]
     },
     "metadata": {},
     "output_type": "display_data"
    }
   ],
   "source": [
    "## Question regarding top bastsmen and top bowlers in history of IPL.\n",
    "\n",
    "batsman_runsperseason = batsmen.groupby(['season', 'batting_team', 'batsman'])['batsman_runs'].sum().reset_index()\n",
    "batsman_runsperseason = batsman_runsperseason.groupby(['season', 'batsman'])['batsman_runs'].sum().unstack().T\n",
    "batsman_runsperseason['Total'] = batsman_runsperseason.sum(axis=1) #add total column to find batsman with the highest runs\n",
    "batsman_runsperseason = batsman_runsperseason.sort_values(by = 'Total', ascending = False).drop('Total', 1)\n",
    "ax.set_ylabel('Number of Runs')\n",
    "ax = batsman_runsperseason[:8].T.plot()"
   ]
  },
  {
   "cell_type": "code",
   "execution_count": 13,
   "metadata": {
    "_uuid": "47e5b249775ec9bddc22fc9d2e3fff8fe54520d1"
   },
   "outputs": [
    {
     "data": {
      "image/png": "[encoded data removed]",
      "text/plain": [
       "<Figure size 576x432 with 1 Axes>"
      ]
     },
     "metadata": {},
     "output_type": "display_data"
    },
    {
     "data": {
      "image/png": "[encoded data removed]",
      "text/plain": [
       "<Figure size 576x432 with 1 Axes>"
      ]
     },
     "metadata": {},
     "output_type": "display_data"
    }
   ],
   "source": [
    "bowler_wicketsperseason = bowlers.groupby(['season', 'bowling_team', 'bowler'])['wickets'].sum().reset_index()\n",
    "bowler_wicketsperseason = bowler_wicketsperseason.groupby(['season', 'bowler'])['wickets'].sum().unstack().T\n",
    "bowler_wicketsperseason ['Total'] = bowler_wicketsperseason .sum(axis=1) #add total column to find bowler with the highest number of wickets\n",
    "bowler_wicketsperseason  = bowler_wicketsperseason .sort_values(by = 'Total', ascending = False).drop('Total', 1)\n",
    "plt.ylabel('Number of Wickets')\n",
    "ax = bowler_wicketsperseason [:8].T.plot()"
   ]
  },
  {
   "cell_type": "code",
   "execution_count": 15,
   "metadata": {
    "_uuid": "d440067211b542ae0eeccb252ad70fe5e252c7e0"
   },
   "outputs": [
    {
     "ename": "TypeError",
     "evalue": "`Series.plot()` should not be called with positional arguments, only keyword arguments. The order of positional arguments will change in the future. Use `Series.plot(kind='barh')` instead of `Series.plot('barh',)`.",
     "output_type": "error",
     "traceback": [
      "\u001b[1;31m---------------------------------------------------------------------------\u001b[0m",
      "\u001b[1;31mTypeError\u001b[0m                                 Traceback (most recent call last)",
      "\u001b[1;32m<ipython-input-15-bfc8692885ac>\u001b[0m in \u001b[0;36m<module>\u001b[1;34m\u001b[0m\n\u001b[0;32m      2\u001b[0m \u001b[0mruns_scored\u001b[0m\u001b[1;33m=\u001b[0m\u001b[0mruns_scored\u001b[0m\u001b[1;33m.\u001b[0m\u001b[0msort_values\u001b[0m\u001b[1;33m(\u001b[0m\u001b[0mascending\u001b[0m\u001b[1;33m=\u001b[0m\u001b[1;32mFalse\u001b[0m\u001b[1;33m)\u001b[0m\u001b[1;33m\u001b[0m\u001b[1;33m\u001b[0m\u001b[0m\n\u001b[0;32m      3\u001b[0m \u001b[0mtop10runs\u001b[0m \u001b[1;33m=\u001b[0m \u001b[0mruns_scored\u001b[0m\u001b[1;33m.\u001b[0m\u001b[0mhead\u001b[0m\u001b[1;33m(\u001b[0m\u001b[1;36m8\u001b[0m\u001b[1;33m)\u001b[0m\u001b[1;33m\u001b[0m\u001b[1;33m\u001b[0m\u001b[0m\n\u001b[1;32m----> 4\u001b[1;33m \u001b[0mtop10runs\u001b[0m\u001b[1;33m.\u001b[0m\u001b[0mplot\u001b[0m\u001b[1;33m(\u001b[0m\u001b[1;34m'barh'\u001b[0m\u001b[1;33m)\u001b[0m\u001b[1;33m\u001b[0m\u001b[1;33m\u001b[0m\u001b[0m\n\u001b[0m",
      "\u001b[1;32m~\\anaconda3\\lib\\site-packages\\pandas\\plotting\\_core.py\u001b[0m in \u001b[0;36m__call__\u001b[1;34m(self, *args, **kwargs)\u001b[0m\n\u001b[0;32m    768\u001b[0m \u001b[1;33m\u001b[0m\u001b[0m\n\u001b[0;32m    769\u001b[0m         x, y, kind, kwargs = self._get_call_args(\n\u001b[1;32m--> 770\u001b[1;33m             \u001b[0mplot_backend\u001b[0m\u001b[1;33m.\u001b[0m\u001b[0m__name__\u001b[0m\u001b[1;33m,\u001b[0m \u001b[0mself\u001b[0m\u001b[1;33m.\u001b[0m\u001b[0m_parent\u001b[0m\u001b[1;33m,\u001b[0m \u001b[0margs\u001b[0m\u001b[1;33m,\u001b[0m \u001b[0mkwargs\u001b[0m\u001b[1;33m\u001b[0m\u001b[1;33m\u001b[0m\u001b[0m\n\u001b[0m\u001b[0;32m    771\u001b[0m         )\n\u001b[0;32m    772\u001b[0m \u001b[1;33m\u001b[0m\u001b[0m\n",
      "\u001b[1;32m~\\anaconda3\\lib\\site-packages\\pandas\\plotting\\_core.py\u001b[0m in \u001b[0;36m_get_call_args\u001b[1;34m(backend_name, data, args, kwargs)\u001b[0m\n\u001b[0;32m    751\u001b[0m                 \u001b[1;34mf\"`Series.plot({positional_args})`.\"\u001b[0m\u001b[1;33m\u001b[0m\u001b[1;33m\u001b[0m\u001b[0m\n\u001b[0;32m    752\u001b[0m             )\n\u001b[1;32m--> 753\u001b[1;33m             \u001b[1;32mraise\u001b[0m \u001b[0mTypeError\u001b[0m\u001b[1;33m(\u001b[0m\u001b[0mmsg\u001b[0m\u001b[1;33m)\u001b[0m\u001b[1;33m\u001b[0m\u001b[1;33m\u001b[0m\u001b[0m\n\u001b[0m\u001b[0;32m    754\u001b[0m \u001b[1;33m\u001b[0m\u001b[0m\n\u001b[0;32m    755\u001b[0m         \u001b[0mpos_args\u001b[0m \u001b[1;33m=\u001b[0m \u001b[1;33m{\u001b[0m\u001b[0mname\u001b[0m\u001b[1;33m:\u001b[0m \u001b[0mvalue\u001b[0m \u001b[1;32mfor\u001b[0m \u001b[0mvalue\u001b[0m\u001b[1;33m,\u001b[0m \u001b[1;33m(\u001b[0m\u001b[0mname\u001b[0m\u001b[1;33m,\u001b[0m \u001b[0m_\u001b[0m\u001b[1;33m)\u001b[0m \u001b[1;32min\u001b[0m \u001b[0mzip\u001b[0m\u001b[1;33m(\u001b[0m\u001b[0margs\u001b[0m\u001b[1;33m,\u001b[0m \u001b[0marg_def\u001b[0m\u001b[1;33m)\u001b[0m\u001b[1;33m}\u001b[0m\u001b[1;33m\u001b[0m\u001b[1;33m\u001b[0m\u001b[0m\n",
      "\u001b[1;31mTypeError\u001b[0m: `Series.plot()` should not be called with positional arguments, only keyword arguments. The order of positional arguments will change in the future. Use `Series.plot(kind='barh')` instead of `Series.plot('barh',)`."
     ]
    }
   ],
   "source": [
    "runs_scored=batsmen.groupby(['batsman'])['batsman_runs'].sum()\n",
    "runs_scored=runs_scored.sort_values(ascending=False)\n",
    "top10runs = runs_scored.head(8)\n",
    "top10runs.plot('barh')"
   ]
  },
  {
   "cell_type": "code",
   "execution_count": 16,
   "metadata": {
    "_uuid": "c696bad0dd04bb15d822832a4c35d1543abc2cbc"
   },
   "outputs": [
    {
     "data": {
      "image/png": "[encoded data removed]",
      "text/plain": [
       "<Figure size 576x432 with 1 Axes>"
      ]
     },
     "metadata": {},
     "output_type": "display_data"
    },
    {
     "data": {
      "image/png": "[encoded data removed]",
      "text/plain": [
       "<Figure size 576x432 with 1 Axes>"
      ]
     },
     "metadata": {},
     "output_type": "display_data"
    }
   ],
   "source": [
    "## Barplot of Runs\n",
    "\n",
    "#sns.barplot(x=\"day\", y=\"total_bill\", data=tips)\n",
    "fig, ax = plt.subplots()\n",
    "#fig.figsize = [16,10]\n",
    "#ax.set_ylim([0,20])\n",
    "ax.set_xlabel(\"Runs\")\n",
    "ax.set_title(\"Winning by Runs - Team Performance\")\n",
    "#top_players.plot.bar()\n",
    "sns.boxplot(y = 'winner', x = 'win_by_runs', data=iplmatches[iplmatches['win_by_runs']>0], orient = 'h'); #palette=\"Blues\");\n",
    "plt.show()\n",
    "\n",
    "## Barplot of Wickets Win\n",
    "\n",
    "#sns.barplot(x=\"day\", y=\"total_bill\", data=tips)\n",
    "fig, ax = plt.subplots()\n",
    "#fig.figsize = [16,10]\n",
    "#ax.set_ylim([0,20])\n",
    "ax.set_title(\"Winning by Wickets - Team Performance\")\n",
    "#top_players.plot.bar()\n",
    "sns.boxplot(y = 'winner', x = 'win_by_wickets', data=iplmatches[iplmatches['win_by_wickets']>0], orient = 'h'); #palette=\"Blues\");\n",
    "plt.show()\n"
   ]
  },
  {
   "cell_type": "markdown",
   "metadata": {
    "_uuid": "fd0cf81ce781a8d9ab43c999b2fdd00be8c60649"
   },
   "source": [
    "====================================================================================================="
   ]
  },
  {
   "cell_type": "markdown",
   "metadata": {
    "_uuid": "5b2bdbcbe5777de74e6806b5de40cdd93f0b5bb8"
   },
   "source": [
    "Now we are going to do some Classification.\n",
    "Please note that I will do very little explaining and more so for the user to explore and figure out the statistical methods used under it. \n"
   ]
  },
  {
   "cell_type": "code",
   "execution_count": 17,
   "metadata": {
    "_uuid": "31c47bbd9a8282d6e56982906291fa026883e1ff"
   },
   "outputs": [],
   "source": [
    "# Import the new Dataset.\n",
    "# Now for this dataset, I removed some features that I felt were unnecessary from the original IPL\n",
    "# Dataset. However, you can use that or use the one below with a screenshot of the headings.\n",
    "matches = pandas.read_csv('matches1234.csv')"
   ]
  },
  {
   "cell_type": "code",
   "execution_count": 18,
   "metadata": {
    "_uuid": "ae075836201b80e65b7e9b8e74ec695c8415311d"
   },
   "outputs": [
    {
     "data": {
      "text/html": [
       "<div>\n",
       "<style scoped>\n",
       "    .dataframe tbody tr th:only-of-type {\n",
       "        vertical-align: middle;\n",
       "    }\n",
       "\n",
       "    .dataframe tbody tr th {\n",
       "        vertical-align: top;\n",
       "    }\n",
       "\n",
       "    .dataframe thead th {\n",
       "        text-align: right;\n",
       "    }\n",
       "</style>\n",
       "<table border=\"1\" class=\"dataframe\">\n",
       "  <thead>\n",
       "    <tr style=\"text-align: right;\">\n",
       "      <th></th>\n",
       "      <th>season</th>\n",
       "      <th>city</th>\n",
       "      <th>team1</th>\n",
       "      <th>team2</th>\n",
       "      <th>toss_winner</th>\n",
       "      <th>toss_decision</th>\n",
       "      <th>winner</th>\n",
       "      <th>win_by_runs</th>\n",
       "      <th>win_by_wickets</th>\n",
       "      <th>venue</th>\n",
       "      <th>umpire1</th>\n",
       "    </tr>\n",
       "  </thead>\n",
       "  <tbody>\n",
       "    <tr>\n",
       "      <th>0</th>\n",
       "      <td>2017</td>\n",
       "      <td>Hyderabad</td>\n",
       "      <td>Sunrisers Hyderabad</td>\n",
       "      <td>Royal Challengers Bangalore</td>\n",
       "      <td>Royal Challengers Bangalore</td>\n",
       "      <td>field</td>\n",
       "      <td>Sunrisers Hyderabad</td>\n",
       "      <td>35</td>\n",
       "      <td>0</td>\n",
       "      <td>Rajiv Gandhi International Stadium, Uppal</td>\n",
       "      <td>AY Dandekar</td>\n",
       "    </tr>\n",
       "    <tr>\n",
       "      <th>1</th>\n",
       "      <td>2017</td>\n",
       "      <td>Pune</td>\n",
       "      <td>Mumbai Indians</td>\n",
       "      <td>Rising Pune Supergiants</td>\n",
       "      <td>Rising Pune Supergiants</td>\n",
       "      <td>field</td>\n",
       "      <td>Rising Pune Supergiants</td>\n",
       "      <td>0</td>\n",
       "      <td>7</td>\n",
       "      <td>Maharashtra Cricket Association Stadium</td>\n",
       "      <td>A Nand Kishore</td>\n",
       "    </tr>\n",
       "    <tr>\n",
       "      <th>2</th>\n",
       "      <td>2017</td>\n",
       "      <td>Rajkot</td>\n",
       "      <td>Gujarat Lions</td>\n",
       "      <td>Kolkata Knight Riders</td>\n",
       "      <td>Kolkata Knight Riders</td>\n",
       "      <td>field</td>\n",
       "      <td>Kolkata Knight Riders</td>\n",
       "      <td>0</td>\n",
       "      <td>10</td>\n",
       "      <td>Saurashtra Cricket Association Stadium</td>\n",
       "      <td>Nitin Menon</td>\n",
       "    </tr>\n",
       "  </tbody>\n",
       "</table>\n",
       "</div>"
      ],
      "text/plain": [
       "   season       city                team1                        team2  \\\n",
       "0    2017  Hyderabad  Sunrisers Hyderabad  Royal Challengers Bangalore   \n",
       "1    2017       Pune       Mumbai Indians      Rising Pune Supergiants   \n",
       "2    2017     Rajkot        Gujarat Lions        Kolkata Knight Riders   \n",
       "\n",
       "                   toss_winner toss_decision                   winner  \\\n",
       "0  Royal Challengers Bangalore         field      Sunrisers Hyderabad   \n",
       "1      Rising Pune Supergiants         field  Rising Pune Supergiants   \n",
       "2        Kolkata Knight Riders         field    Kolkata Knight Riders   \n",
       "\n",
       "   win_by_runs  win_by_wickets                                      venue  \\\n",
       "0           35               0  Rajiv Gandhi International Stadium, Uppal   \n",
       "1            0               7    Maharashtra Cricket Association Stadium   \n",
       "2            0              10     Saurashtra Cricket Association Stadium   \n",
       "\n",
       "          umpire1  \n",
       "0     AY Dandekar  \n",
       "1  A Nand Kishore  \n",
       "2     Nitin Menon  "
      ]
     },
     "execution_count": 18,
     "metadata": {},
     "output_type": "execute_result"
    }
   ],
   "source": [
    "matches.head(3)"
   ]
  },
  {
   "cell_type": "code",
   "execution_count": 19,
   "metadata": {
    "_uuid": "852b66e8b336cfcd4cc34751d259f92157c90a45"
   },
   "outputs": [],
   "source": [
    "# Make a copy of the dataset that you imported or used before\n",
    "copy_data = matches.copy()\n"
   ]
  },
  {
   "cell_type": "code",
   "execution_count": 20,
   "metadata": {
    "_uuid": "80857b88f5494babbc89f6780367d4e2399f3c0f"
   },
   "outputs": [],
   "source": [
    "# As to ensure data integrity, make sure there are no missing values. In some cases you can take the mean to ensure fairness. In this case\n",
    "# the values missing are types and so I filled them with these names. You could do otherwise if you wish\n",
    "copy_data['city'].fillna('Dubai',inplace=True)\n",
    "copy_data['umpire1'].fillna('Aleem Dar',inplace=True)"
   ]
  },
  {
   "cell_type": "code",
   "execution_count": 21,
   "metadata": {
    "_uuid": "c9c441fb868968dec8f24f2bb50557c892f3b5d6"
   },
   "outputs": [
    {
     "data": {
      "text/html": [
       "<div>\n",
       "<style scoped>\n",
       "    .dataframe tbody tr th:only-of-type {\n",
       "        vertical-align: middle;\n",
       "    }\n",
       "\n",
       "    .dataframe tbody tr th {\n",
       "        vertical-align: top;\n",
       "    }\n",
       "\n",
       "    .dataframe thead th {\n",
       "        text-align: right;\n",
       "    }\n",
       "</style>\n",
       "<table border=\"1\" class=\"dataframe\">\n",
       "  <thead>\n",
       "    <tr style=\"text-align: right;\">\n",
       "      <th></th>\n",
       "      <th>variable</th>\n",
       "      <th>number of missing</th>\n",
       "    </tr>\n",
       "  </thead>\n",
       "  <tbody>\n",
       "  </tbody>\n",
       "</table>\n",
       "</div>"
      ],
      "text/plain": [
       "Empty DataFrame\n",
       "Columns: [variable, number of missing]\n",
       "Index: []"
      ]
     },
     "execution_count": 21,
     "metadata": {},
     "output_type": "execute_result"
    }
   ],
   "source": [
    "# Firstly, we should have a look whether the data is completed or not.\n",
    "# Because the missing value will have an adverse impact on the building of regression model.\n",
    "\n",
    "null_values_col = copy_data.isnull().sum()\n",
    "null_values_col = null_values_col[null_values_col != 0].sort_values(ascending = False).reset_index()\n",
    "null_values_col.columns = [\"variable\", \"number of missing\"]\n",
    "null_values_col.head()"
   ]
  },
  {
   "cell_type": "code",
   "execution_count": 22,
   "metadata": {
    "_uuid": "b76267cfd83be308627ad55997dc54f37f235d02"
   },
   "outputs": [
    {
     "name": "stdout",
     "output_type": "stream",
     "text": [
      "Index(['season', 'city', 'team1', 'team2', 'toss_winner', 'toss_decision',\n",
      "       'winner', 'win_by_runs', 'win_by_wickets', 'venue', 'umpire1'],\n",
      "      dtype='object')\n"
     ]
    }
   ],
   "source": [
    "print(copy_data.columns)"
   ]
  },
  {
   "cell_type": "code",
   "execution_count": 23,
   "metadata": {
    "_uuid": "0d98b5ad2b7689ed62be4431cf93054f5f59fc16"
   },
   "outputs": [],
   "source": [
    "#Create now a dataframe copy of the data and all its rows and named columns.\n",
    "df = DataFrame(copy_data,columns=['team1', 'team2', 'toss_decision','toss_winner','city', 'venue', 'season', 'win_by_runs', 'win_by_wickets', 'umpire1', 'winner'])"
   ]
  },
  {
   "cell_type": "code",
   "execution_count": 24,
   "metadata": {
    "_uuid": "b3cfa28147347e8ee2c8c12eb3983955765ab050"
   },
   "outputs": [],
   "source": [
    "# Now what we have done is replace the name values with numbers. Regression can only be run with \n",
    "# numbers and not anything else. \n",
    "df['winner'].fillna('Draw', inplace=True)\n",
    "df.replace(['Mumbai Indians','Kolkata Knight Riders','Royal Challengers Bangalore','Deccan Chargers','Chennai Super Kings',\n",
    "                 'Rajasthan Royals','Delhi Daredevils','Gujarat Lions','Kings XI Punjab',\n",
    "                 'Sunrisers Hyderabad','Rising Pune Supergiants','Kochi Tuskers Kerala','Pune Warriors']\n",
    "                ,['MI','KKR','RCB','DC','CSK','RR','DD','GL','KXIP','SRH','RPS','KTK','PW'],inplace=True)\n",
    "\n",
    "encode = {'team1': {'MI':1,'KKR':2,'RCB':3,'DC':4,'CSK':5,'RR':6,'DD':7,'GL':8,'KXIP':9,'SRH':10,'RPS':11,'KTK':12,'PW':13},\n",
    "          'team2': {'MI':1,'KKR':2,'RCB':3,'DC':4,'CSK':5,'RR':6,'DD':7,'GL':8,'KXIP':9,'SRH':10,'RPS':11,'KTK':12,'PW':13},\n",
    "          'toss_winner': {'MI':1,'KKR':2,'RCB':3,'DC':4,'CSK':5,'RR':6,'DD':7,'GL':8,'KXIP':9,'SRH':10,'RPS':11,'KTK':12,'PW':13},\n",
    "          'winner': {'MI':1,'KKR':2,'RCB':3,'DC':4,'CSK':5,'RR':6,'DD':7,'GL':8,'KXIP':9,'SRH':10,'RPS':11,'KTK':12,'PW':13,'Draw':14}}\n",
    "df.replace(encode, inplace=True)"
   ]
  },
  {
   "cell_type": "code",
   "execution_count": 25,
   "metadata": {
    "_uuid": "742f5d348933b28c17540959aa3fe9248b113664"
   },
   "outputs": [
    {
     "name": "stdout",
     "output_type": "stream",
     "text": [
      "1\n",
      "MI\n"
     ]
    }
   ],
   "source": [
    "dicVal = encode['winner']\n",
    "print(dicVal['MI']) #key value\n",
    "print(list(dicVal.keys())[list(dicVal.values()).index(1)])"
   ]
  },
  {
   "cell_type": "code",
   "execution_count": 26,
   "metadata": {
    "_uuid": "94dded967bdc07048b5eb56b0862314a02d0691d"
   },
   "outputs": [
    {
     "data": {
      "text/plain": [
       "team1              int64\n",
       "team2              int64\n",
       "toss_decision     object\n",
       "toss_winner        int64\n",
       "city              object\n",
       "venue             object\n",
       "season             int64\n",
       "win_by_runs        int64\n",
       "win_by_wickets     int64\n",
       "umpire1           object\n",
       "winner             int64\n",
       "dtype: object"
      ]
     },
     "execution_count": 26,
     "metadata": {},
     "output_type": "execute_result"
    }
   ],
   "source": [
    "# If any of the types are objects, then this needs to be changed to integers\n",
    "df.dtypes"
   ]
  },
  {
   "cell_type": "code",
   "execution_count": 27,
   "metadata": {
    "_uuid": "4c78a5c603c8e1c01c201e537e1f12de4efe25cc"
   },
   "outputs": [
    {
     "data": {
      "text/plain": [
       "team1             int64\n",
       "team2             int64\n",
       "toss_decision     int32\n",
       "toss_winner       int64\n",
       "city              int32\n",
       "venue             int32\n",
       "season            int64\n",
       "win_by_runs       int64\n",
       "win_by_wickets    int64\n",
       "umpire1           int32\n",
       "winner            int64\n",
       "dtype: object"
      ]
     },
     "execution_count": 27,
     "metadata": {},
     "output_type": "execute_result"
    }
   ],
   "source": [
    "# This allows any columns to be changed with the corresponding values.\n",
    "from sklearn.preprocessing import LabelEncoder\n",
    "var_mod = ['toss_decision', 'city', 'venue', 'umpire1']\n",
    "le = LabelEncoder()\n",
    "for i in var_mod:\n",
    "    df[i] = le.fit_transform(df[i])\n",
    "df.dtypes"
   ]
  },
  {
   "cell_type": "code",
   "execution_count": 28,
   "metadata": {
    "_uuid": "4df20e32740b430c4a3cb3c2fcc6285c73222bc0"
   },
   "outputs": [
    {
     "data": {
      "text/html": [
       "<div>\n",
       "<style scoped>\n",
       "    .dataframe tbody tr th:only-of-type {\n",
       "        vertical-align: middle;\n",
       "    }\n",
       "\n",
       "    .dataframe tbody tr th {\n",
       "        vertical-align: top;\n",
       "    }\n",
       "\n",
       "    .dataframe thead th {\n",
       "        text-align: right;\n",
       "    }\n",
       "</style>\n",
       "<table border=\"1\" class=\"dataframe\">\n",
       "  <thead>\n",
       "    <tr style=\"text-align: right;\">\n",
       "      <th></th>\n",
       "      <th>team1</th>\n",
       "      <th>team2</th>\n",
       "      <th>toss_decision</th>\n",
       "      <th>toss_winner</th>\n",
       "      <th>city</th>\n",
       "      <th>venue</th>\n",
       "      <th>season</th>\n",
       "      <th>win_by_runs</th>\n",
       "      <th>win_by_wickets</th>\n",
       "      <th>umpire1</th>\n",
       "      <th>winner</th>\n",
       "    </tr>\n",
       "  </thead>\n",
       "  <tbody>\n",
       "    <tr>\n",
       "      <th>0</th>\n",
       "      <td>10</td>\n",
       "      <td>3</td>\n",
       "      <td>1</td>\n",
       "      <td>3</td>\n",
       "      <td>14</td>\n",
       "      <td>23</td>\n",
       "      <td>2017</td>\n",
       "      <td>35</td>\n",
       "      <td>0</td>\n",
       "      <td>5</td>\n",
       "      <td>10</td>\n",
       "    </tr>\n",
       "    <tr>\n",
       "      <th>1</th>\n",
       "      <td>1</td>\n",
       "      <td>11</td>\n",
       "      <td>1</td>\n",
       "      <td>11</td>\n",
       "      <td>25</td>\n",
       "      <td>16</td>\n",
       "      <td>2017</td>\n",
       "      <td>0</td>\n",
       "      <td>7</td>\n",
       "      <td>1</td>\n",
       "      <td>11</td>\n",
       "    </tr>\n",
       "    <tr>\n",
       "      <th>2</th>\n",
       "      <td>8</td>\n",
       "      <td>2</td>\n",
       "      <td>1</td>\n",
       "      <td>2</td>\n",
       "      <td>27</td>\n",
       "      <td>25</td>\n",
       "      <td>2017</td>\n",
       "      <td>0</td>\n",
       "      <td>10</td>\n",
       "      <td>27</td>\n",
       "      <td>2</td>\n",
       "    </tr>\n",
       "    <tr>\n",
       "      <th>3</th>\n",
       "      <td>11</td>\n",
       "      <td>9</td>\n",
       "      <td>1</td>\n",
       "      <td>9</td>\n",
       "      <td>15</td>\n",
       "      <td>11</td>\n",
       "      <td>2017</td>\n",
       "      <td>0</td>\n",
       "      <td>6</td>\n",
       "      <td>2</td>\n",
       "      <td>9</td>\n",
       "    </tr>\n",
       "    <tr>\n",
       "      <th>4</th>\n",
       "      <td>3</td>\n",
       "      <td>7</td>\n",
       "      <td>0</td>\n",
       "      <td>3</td>\n",
       "      <td>2</td>\n",
       "      <td>14</td>\n",
       "      <td>2017</td>\n",
       "      <td>15</td>\n",
       "      <td>0</td>\n",
       "      <td>6</td>\n",
       "      <td>3</td>\n",
       "    </tr>\n",
       "    <tr>\n",
       "      <th>...</th>\n",
       "      <td>...</td>\n",
       "      <td>...</td>\n",
       "      <td>...</td>\n",
       "      <td>...</td>\n",
       "      <td>...</td>\n",
       "      <td>...</td>\n",
       "      <td>...</td>\n",
       "      <td>...</td>\n",
       "      <td>...</td>\n",
       "      <td>...</td>\n",
       "      <td>...</td>\n",
       "    </tr>\n",
       "    <tr>\n",
       "      <th>145</th>\n",
       "      <td>2</td>\n",
       "      <td>7</td>\n",
       "      <td>0</td>\n",
       "      <td>2</td>\n",
       "      <td>12</td>\n",
       "      <td>13</td>\n",
       "      <td>2009</td>\n",
       "      <td>0</td>\n",
       "      <td>9</td>\n",
       "      <td>16</td>\n",
       "      <td>7</td>\n",
       "    </tr>\n",
       "    <tr>\n",
       "      <th>146</th>\n",
       "      <td>4</td>\n",
       "      <td>1</td>\n",
       "      <td>0</td>\n",
       "      <td>4</td>\n",
       "      <td>5</td>\n",
       "      <td>32</td>\n",
       "      <td>2009</td>\n",
       "      <td>19</td>\n",
       "      <td>0</td>\n",
       "      <td>25</td>\n",
       "      <td>4</td>\n",
       "    </tr>\n",
       "    <tr>\n",
       "      <th>147</th>\n",
       "      <td>3</td>\n",
       "      <td>6</td>\n",
       "      <td>1</td>\n",
       "      <td>6</td>\n",
       "      <td>5</td>\n",
       "      <td>32</td>\n",
       "      <td>2009</td>\n",
       "      <td>0</td>\n",
       "      <td>7</td>\n",
       "      <td>21</td>\n",
       "      <td>6</td>\n",
       "    </tr>\n",
       "    <tr>\n",
       "      <th>148</th>\n",
       "      <td>5</td>\n",
       "      <td>9</td>\n",
       "      <td>0</td>\n",
       "      <td>5</td>\n",
       "      <td>5</td>\n",
       "      <td>32</td>\n",
       "      <td>2009</td>\n",
       "      <td>12</td>\n",
       "      <td>0</td>\n",
       "      <td>15</td>\n",
       "      <td>5</td>\n",
       "    </tr>\n",
       "    <tr>\n",
       "      <th>149</th>\n",
       "      <td>1</td>\n",
       "      <td>7</td>\n",
       "      <td>0</td>\n",
       "      <td>1</td>\n",
       "      <td>13</td>\n",
       "      <td>2</td>\n",
       "      <td>2009</td>\n",
       "      <td>0</td>\n",
       "      <td>7</td>\n",
       "      <td>24</td>\n",
       "      <td>7</td>\n",
       "    </tr>\n",
       "  </tbody>\n",
       "</table>\n",
       "<p>150 rows × 11 columns</p>\n",
       "</div>"
      ],
      "text/plain": [
       "     team1  team2  toss_decision  toss_winner  city  venue  season  \\\n",
       "0       10      3              1            3    14     23    2017   \n",
       "1        1     11              1           11    25     16    2017   \n",
       "2        8      2              1            2    27     25    2017   \n",
       "3       11      9              1            9    15     11    2017   \n",
       "4        3      7              0            3     2     14    2017   \n",
       "..     ...    ...            ...          ...   ...    ...     ...   \n",
       "145      2      7              0            2    12     13    2009   \n",
       "146      4      1              0            4     5     32    2009   \n",
       "147      3      6              1            6     5     32    2009   \n",
       "148      5      9              0            5     5     32    2009   \n",
       "149      1      7              0            1    13      2    2009   \n",
       "\n",
       "     win_by_runs  win_by_wickets  umpire1  winner  \n",
       "0             35               0        5      10  \n",
       "1              0               7        1      11  \n",
       "2              0              10       27       2  \n",
       "3              0               6        2       9  \n",
       "4             15               0        6       3  \n",
       "..           ...             ...      ...     ...  \n",
       "145            0               9       16       7  \n",
       "146           19               0       25       4  \n",
       "147            0               7       21       6  \n",
       "148           12               0       15       5  \n",
       "149            0               7       24       7  \n",
       "\n",
       "[150 rows x 11 columns]"
      ]
     },
     "execution_count": 28,
     "metadata": {},
     "output_type": "execute_result"
    }
   ],
   "source": [
    "#Compare the data at the beginning to now, ensuring no string value remains.\n",
    "df.head(150)"
   ]
  },
  {
   "cell_type": "code",
   "execution_count": 29,
   "metadata": {
    "_uuid": "264cbfe4fc8f47d9a3a6b2eee00ee0cbe0f604dd"
   },
   "outputs": [],
   "source": [
    "# Now we are going to split the training and test models in a typical 60:20:20 set.\n",
    "x = df[['team1', 'team2', 'toss_decision','toss_winner','city', 'venue', 'season', 'win_by_runs', 'win_by_wickets', 'umpire1']]\n",
    "y = df[['winner']]\n",
    "\n",
    "x_model, x_test, y_model, y_test = train_test_split(x, y, test_size=0.2, random_state=1)\n",
    "x_train, x_val, y_train, y_val = train_test_split(x_model, y_model, test_size=0.2, random_state=1)"
   ]
  },
  {
   "cell_type": "code",
   "execution_count": null,
   "metadata": {
    "_uuid": "39a297bd676b1164b11c2623d2139bfbb93f20ff"
   },
   "outputs": [],
   "source": [
    "##Using SVM "
   ]
  },
  {
   "cell_type": "code",
   "execution_count": 30,
   "metadata": {
    "_uuid": "55c299577dbeeab1269f8c7af7c046358608bb39"
   },
   "outputs": [
    {
     "name": "stdout",
     "output_type": "stream",
     "text": [
      "1.0\n",
      "0.14705882352941177\n"
     ]
    }
   ],
   "source": [
    "from sklearn.svm import SVC\n",
    "from sklearn.multiclass import OneVsRestClassifier\n",
    "\n",
    "classifier = SVC(gamma = 'auto')\n",
    "svm_model = OneVsRestClassifier(classifier, n_jobs=1).fit(x_train, y_train)\n",
    "\n",
    "print(svm_model.score(x_train,y_train))\n",
    "print(svm_model.score(x_val,y_val))"
   ]
  },
  {
   "cell_type": "code",
   "execution_count": 31,
   "metadata": {
    "_uuid": "076b26cb0b69af625166011db01c313145cdbd5a"
   },
   "outputs": [
    {
     "name": "stdout",
     "output_type": "stream",
     "text": [
      "[0.0784313725490196, 0.18627450980392157, 0.28431372549019607, 0.2549019607843137, 0.06862745098039216, 0.049019607843137254, 0.0392156862745098, 0.029411764705882353, 0.06862745098039216]\n"
     ]
    },
    {
     "data": {
      "text/plain": [
       "<matplotlib.collections.PathCollection at 0x21dc508adc8>"
      ]
     },
     "execution_count": 31,
     "metadata": {},
     "output_type": "execute_result"
    },
    {
     "data": {
      "image/png": "[encoded data removed]",
      "text/plain": [
       "<Figure size 576x432 with 1 Axes>"
      ]
     },
     "metadata": {},
     "output_type": "display_data"
    }
   ],
   "source": [
    "\n",
    "accuracy=[]\n",
    "gamma=[0.0001, 0.001, 0.005, 0.01, 0.1, 0.2, 0.3, 0.5, 0.1]\n",
    "\n",
    "for a in gamma:\n",
    "    classifier = SVC(C=1, \n",
    "        kernel='rbf', \n",
    "        degree=2, \n",
    "        gamma=a, \n",
    "        coef0=1,\n",
    "        shrinking=True, \n",
    "        tol=0.5,\n",
    "        probability=False, \n",
    "        cache_size=200, \n",
    "        class_weight=None,\n",
    "        verbose=False, \n",
    "        max_iter=-1, \n",
    "        decision_function_shape=None, \n",
    "        random_state=None)\n",
    "    svm_model = OneVsRestClassifier(classifier, n_jobs=1)\n",
    "    svm_model.fit(x_train, y_train)\n",
    "    predict=svm_model.predict(x_val)\n",
    "    accuracy.append(svm_model.score(x_val,y_val))\n",
    "print(accuracy)\n",
    "plt.scatter(gamma, accuracy)"
   ]
  },
  {
   "cell_type": "code",
   "execution_count": 32,
   "metadata": {
    "_uuid": "dce92000bff489221bcac40b89fb807a0ff098f9"
   },
   "outputs": [
    {
     "name": "stdout",
     "output_type": "stream",
     "text": [
      "[0.0784313725490196, 0.16666666666666666, 0.22549019607843138, 0.18627450980392157, 0.24509803921568626, 0.2549019607843137, 0.27450980392156865, 0.24509803921568626, 0.2647058823529412, 0.27450980392156865, 0.20588235294117646, 0.2549019607843137, 0.24509803921568626, 0.2647058823529412, 0.27450980392156865, 0.28431372549019607, 0.29411764705882354]\n"
     ]
    },
    {
     "data": {
      "image/png": "[encoded data removed]",
      "text/plain": [
       "<Figure size 576x432 with 1 Axes>"
      ]
     },
     "metadata": {},
     "output_type": "display_data"
    }
   ],
   "source": [
    "gamma=np.arange(0.0001, 0.005, 0.0003) \n",
    "accuracy=[]\n",
    "\n",
    "for a in gamma:\n",
    "    classifier = SVC(C=1, \n",
    "        kernel='rbf', \n",
    "        degree=2, \n",
    "        gamma=a, \n",
    "        coef0=1,\n",
    "        shrinking=True, \n",
    "        tol=0.5,\n",
    "        probability=False, \n",
    "        cache_size=200, \n",
    "        class_weight=None,\n",
    "        verbose=False, \n",
    "        max_iter=-1, \n",
    "        decision_function_shape=None, \n",
    "        random_state=None)\n",
    "    svm_model = OneVsRestClassifier(classifier, n_jobs=1)\n",
    "    svm_model.fit(x_train, y_train)\n",
    "    predict=svm_model.predict(x_val)\n",
    "    accuracy.append(svm_model.score(x_val,y_val))\n",
    "print(accuracy)\n",
    "plt.scatter(gamma, accuracy)\n",
    "plt.scatter(gamma, accuracy)\n",
    "plt.title(\"Finding Gamma\")\n",
    "plt.xlabel(\"Gamma\")\n",
    "plt.ylabel(\"Accuracy Score\")\n",
    "plt.show()"
   ]
  },
  {
   "cell_type": "code",
   "execution_count": 33,
   "metadata": {
    "_uuid": "36d538597fdfbcfafee099a33ed85fe2dfe7b3dc"
   },
   "outputs": [
    {
     "name": "stdout",
     "output_type": "stream",
     "text": [
      "[0.24509803921568626, 0.27450980392156865, 0.2549019607843137, 0.24509803921568626, 0.28431372549019607, 0.23529411764705882, 0.27450980392156865, 0.2647058823529412, 0.3137254901960784]\n"
     ]
    },
    {
     "data": {
      "image/png": "[encoded data removed]",
      "text/plain": [
       "<Figure size 576x432 with 1 Axes>"
      ]
     },
     "metadata": {},
     "output_type": "display_data"
    }
   ],
   "source": [
    "accuracy=[]\n",
    "C=np.arange(1,10,1) \n",
    "\n",
    "for a in C:\n",
    "    classifier = SVC(C=a, \n",
    "        kernel='rbf', \n",
    "        degree=2, \n",
    "        gamma=0.0013, \n",
    "        coef0=1,\n",
    "        shrinking=True, \n",
    "        tol=0.5,\n",
    "        probability=False, \n",
    "        cache_size=200, \n",
    "        class_weight=None,\n",
    "        verbose=False, \n",
    "        max_iter=-1, \n",
    "        decision_function_shape=None, \n",
    "        random_state=None)\n",
    "    svm_model = OneVsRestClassifier(classifier, n_jobs=1)\n",
    "    svm_model.fit(x_train, y_train)\n",
    "    predict=svm_model.predict(x_val)\n",
    "    accuracy.append(svm_model.score(x_val,y_val))\n",
    "print(accuracy)\n",
    "plt.scatter(C, accuracy)\n",
    "plt.title(\"Finding C\")\n",
    "plt.xlabel(\"C\")\n",
    "plt.ylabel(\"Accuracy Score\")\n",
    "plt.show()"
   ]
  },
  {
   "cell_type": "code",
   "execution_count": 34,
   "metadata": {
    "_uuid": "2a8583a8f7e8baa87390d94211c1ad3188075659"
   },
   "outputs": [
    {
     "name": "stdout",
     "output_type": "stream",
     "text": [
      "0.9704433497536946\n",
      "0.29411764705882354\n"
     ]
    }
   ],
   "source": [
    "classifier = SVC(C=9, # Regularization parameter\n",
    "        kernel='rbf', # kernel type, rbf working fine here\n",
    "        degree=2, # default value\n",
    "        gamma=0.005, # kernel coefficient\n",
    "        coef0=1, # change to 1 from default value of 0.0\n",
    "        shrinking=True, # using shrinking heuristics\n",
    "        tol=0.5, # stopping criterion tolerance \n",
    "        probability=False, # no need to enable probability estimates\n",
    "        cache_size=200, # 200 MB cache size\n",
    "        class_weight=None, # all classes are treated equally \n",
    "        verbose=False, # print the logs \n",
    "        max_iter=-1, # no limit, let it run\n",
    "        decision_function_shape=None, # will use one vs rest explicitly \n",
    "        random_state=None)\n",
    "svm_model = OneVsRestClassifier(classifier, n_jobs=1).fit(x_train, y_train)\n",
    "\n",
    "print(svm_model.score(x_train,y_train))\n",
    "print(svm_model.score(x_val,y_val))"
   ]
  },
  {
   "cell_type": "code",
   "execution_count": 35,
   "metadata": {
    "_uuid": "30a8293fdc9809ade8ee7b2348dcc0a039203cb9"
   },
   "outputs": [
    {
     "ename": "NameError",
     "evalue": "name 'learning_curve' is not defined",
     "output_type": "error",
     "traceback": [
      "\u001b[1;31m---------------------------------------------------------------------------\u001b[0m",
      "\u001b[1;31mNameError\u001b[0m                                 Traceback (most recent call last)",
      "\u001b[1;32m<ipython-input-35-2c55658f6ae4>\u001b[0m in \u001b[0;36m<module>\u001b[1;34m\u001b[0m\n\u001b[0;32m      1\u001b[0m \u001b[1;31m# Learning Curve\u001b[0m\u001b[1;33m\u001b[0m\u001b[1;33m\u001b[0m\u001b[1;33m\u001b[0m\u001b[0m\n\u001b[0;32m      2\u001b[0m \u001b[1;33m\u001b[0m\u001b[0m\n\u001b[1;32m----> 3\u001b[1;33m train_sizes, train_scores, val_scores = learning_curve(OneVsRestClassifier(classifier, n_jobs=1), \n\u001b[0m\u001b[0;32m      4\u001b[0m         \u001b[0mx_model\u001b[0m\u001b[1;33m,\u001b[0m\u001b[1;33m\u001b[0m\u001b[1;33m\u001b[0m\u001b[0m\n\u001b[0;32m      5\u001b[0m         \u001b[0my_model\u001b[0m\u001b[1;33m,\u001b[0m\u001b[1;33m\u001b[0m\u001b[1;33m\u001b[0m\u001b[0m\n",
      "\u001b[1;31mNameError\u001b[0m: name 'learning_curve' is not defined"
     ]
    }
   ],
   "source": [
    "# Learning Curve\n",
    "\n",
    "train_sizes, train_scores, val_scores = learning_curve(OneVsRestClassifier(classifier, n_jobs=1), \n",
    "        x_model, \n",
    "        y_model,\n",
    "        # Number of folds in cross-validation\n",
    "        cv=5,\n",
    "        # Evaluation metric\n",
    "        scoring='accuracy',\n",
    "        # Use all computer cores\n",
    "        # 50 different sizes of the training set\n",
    "        train_sizes=np.linspace(0.1, 1.0, 5))\n",
    "\n",
    "# Create means and standard deviations of training set scores\n",
    "train_mean = np.mean(train_scores, axis=1)\n",
    "train_std = np.std(train_scores, axis=1)\n",
    "\n",
    "# Create means and standard deviations of validation set scores\n",
    "val_mean = np.mean(val_scores, axis=1)\n",
    "val_std = np.std(val_scores, axis=1)\n",
    "\n",
    "# Draw lines\n",
    "plt.plot(train_sizes, train_mean, '--', color=\"#ff8040\",  label=\"Training score\")\n",
    "plt.plot(train_sizes, val_mean, color=\"#40bfff\", label=\"Cross-validation score\")\n",
    "\n",
    "# Draw bands\n",
    "plt.fill_between(train_sizes, train_mean - train_std, train_mean + train_std, color=\"#DDDDDD\")\n",
    "plt.fill_between(train_sizes, val_mean - val_std, val_mean + val_std, color=\"#DDDDDD\")\n",
    "\n",
    "# Create plot\n",
    "plt.title(\"Learning Curve \\n C=1, gamma=0.0013\")\n",
    "plt.xlabel(\"Training Set Size\"), plt.ylabel(\"Accuracy Score\"), plt.legend(loc=\"best\")\n",
    "plt.tight_layout()\n",
    "plt.show()"
   ]
  },
  {
   "cell_type": "code",
   "execution_count": 36,
   "metadata": {
    "_uuid": "b5969910eb83dfb729483d3a473b6a20345b745c"
   },
   "outputs": [],
   "source": [
    "# curse of dimensionality\n",
    "\n",
    "# one or two features are simple, but it cannot recognize and divide our categories. more features means\n",
    "# more evidence in different dimensions, but it could cause overfitting.\n",
    "\n",
    "\n",
    "\n",
    "d_train = []\n",
    "d_val = []\n",
    "\n",
    "for i in range(1,11):\n",
    "    \n",
    "    x_train_index = x_train.iloc[: , 0:i]\n",
    "    x_val_index = x_val.iloc[: , 0:i]\n",
    "    \n",
    "    classifier = SVC(C=9, # Regularization parameter\n",
    "                    kernel='rbf', # kernel type, rbf working fine here\n",
    "                    degree=2, # default value\n",
    "                    gamma=0.005, # kernel coefficient\n",
    "                    coef0=1, # change to 1 from default value of 0.0\n",
    "                    shrinking=True, # using shrinking heuristics\n",
    "                    tol=0.5, # stopping criterion tolerance \n",
    "                    probability=False, # no need to enable probability estimates\n",
    "                    cache_size=200, # 200 MB cache size\n",
    "                    class_weight=None, # all classes are treated equally \n",
    "                    verbose=False, # print the logs \n",
    "                    max_iter=-1, # no limit, let it run\n",
    "                    decision_function_shape=None, # will use one vs rest explicitly \n",
    "                    random_state=None)\n",
    "    svm_model = OneVsRestClassifier(classifier, n_jobs=1).fit(x_train_index, y_train)\n",
    "\n",
    "    d_train.append(svm_model.score(x_train_index, y_train))\n",
    "    d_val.append(svm_model.score(x_val_index, y_val))"
   ]
  },
  {
   "cell_type": "code",
   "execution_count": null,
   "metadata": {
    "_uuid": "08e2165387bb4c5ae826f1bc1ea33acc3a901889"
   },
   "outputs": [],
   "source": [
    "plt.title('SVM Curse of Dimensionality')\n",
    "plt.plot(range(1,11),d_val,label=\"Validation\")\n",
    "plt.plot(range(1,11),d_train,label=\"Train\")\n",
    "plt.xlabel('Number of Features')\n",
    "plt.ylabel('Score (Accuracy)')\n",
    "plt.legend()\n",
    "plt.xticks(range(1,11))\n",
    "plt.show()"
   ]
  },
  {
   "cell_type": "code",
   "execution_count": null,
   "metadata": {
    "_uuid": "0fad1502a88db6963d11218ac1e317029ca23272"
   },
   "outputs": [],
   "source": [
    "## Decision Tree Classifier"
   ]
  },
  {
   "cell_type": "code",
   "execution_count": null,
   "metadata": {
    "_uuid": "ca52d2d0e1ffb08ffb7b47fbf231d7890173154f"
   },
   "outputs": [],
   "source": [
    "\n",
    "from sklearn import tree\n",
    "from sklearn.tree import DecisionTreeClassifier\n",
    "\n",
    "decision_tree_model = DecisionTreeClassifier()\n",
    "decision_tree_model.fit(x_train, y_train)\n",
    "print(decision_tree_model.score(x_train,y_train))\n",
    "print(decision_tree_model.score(x_val,y_val))"
   ]
  },
  {
   "cell_type": "code",
   "execution_count": null,
   "metadata": {
    "_uuid": "0e34b6a79e4b5886eff18ac705bd4cef22527b33"
   },
   "outputs": [],
   "source": [
    "plt.bar(range(len(x_train.columns.values)), decision_tree_model.feature_importances_)\n",
    "plt.xticks(range(len(x_train.columns.values)),x_train.columns.values, rotation= 45)\n",
    "plt.title('Figure 1.7 Importance of each Feature')"
   ]
  },
  {
   "cell_type": "code",
   "execution_count": null,
   "metadata": {
    "_uuid": "82ac5d310034da26b0189b41ee55389339350492"
   },
   "outputs": [],
   "source": [
    "train_score = []\n",
    "val_score = []\n",
    "for depth in np.arange(1,11):\n",
    "    decision_tree = tree.DecisionTreeClassifier(max_depth = depth,min_samples_leaf = 5)\n",
    "    decision_tree.fit(x_train, y_train)\n",
    "    train_score.append(decision_tree.score(x_train, y_train))\n",
    "    val_score.append(decision_tree.score(x_val, y_val))\n",
    "\n",
    "plt.plot(np.arange(1,11),train_score)\n",
    "plt.plot(np.arange(1,11),val_score)\n",
    "plt.legend(['Training Accuracy','Validation Accuracy'])\n",
    "plt.title('Decision Tree Tuning')\n",
    "plt.xlabel('Depth')\n",
    "plt.ylabel('Accuracy')"
   ]
  },
  {
   "cell_type": "code",
   "execution_count": null,
   "metadata": {
    "_uuid": "2e8a8fbd85e2a5c43d4910584447e131d40e33f7"
   },
   "outputs": [],
   "source": [
    "train_score = []\n",
    "val_score = []\n",
    "for depth in np.arange(1,15):\n",
    "    decision_tree = tree.DecisionTreeClassifier(max_depth = depth,min_samples_leaf = 5)\n",
    "    decision_tree.fit(x_train, y_train)\n",
    "    train_score.append(decision_tree.score(x_train, y_train))\n",
    "    val_score.append(decision_tree.score(x_val, y_val))\n",
    "\n",
    "plt.plot(np.arange(1,15),train_score)\n",
    "plt.plot(np.arange(1,15),val_score)\n",
    "plt.legend(['Training Accuracy','Validation Accuracy'])\n",
    "plt.title('Decision Tree Tuning')\n",
    "plt.xlabel('Depth')\n",
    "plt.ylabel('Accuracy')"
   ]
  },
  {
   "cell_type": "code",
   "execution_count": null,
   "metadata": {
    "_uuid": "7a64fae5b509e964579e9b188bc9f7d4d0371d25"
   },
   "outputs": [],
   "source": [
    "train_score = []\n",
    "val_score = []\n",
    "for leaf in np.arange(1,20):\n",
    "    decision_tree = tree.DecisionTreeClassifier(max_depth = 9, min_samples_leaf = leaf)\n",
    "    decision_tree.fit(x_train, y_train)\n",
    "    train_score.append(decision_tree.score(x_train, y_train))\n",
    "    val_score.append(decision_tree.score(x_val, y_val))\n",
    "\n",
    "plt.plot(np.arange(1,20),train_score)\n",
    "plt.plot(np.arange(1,20),val_score)\n",
    "plt.legend(['Training Accuracy','Validation Accuracy'])\n",
    "plt.title('Decision Tree Tuning')\n",
    "plt.xlabel('Minimum Samples Leaf')\n",
    "plt.ylabel('Accuracy')"
   ]
  },
  {
   "cell_type": "code",
   "execution_count": null,
   "metadata": {
    "_uuid": "1914b0b4b418c495cde4d1111ea4e47c4cbb238c"
   },
   "outputs": [],
   "source": [
    "my_decision_tree_model = DecisionTreeClassifier(max_depth = 9, min_samples_leaf = 3)\n",
    "my_decision_tree_model.fit(x_train, y_train)\n",
    "print(my_decision_tree_model.score(x_train,y_train))\n",
    "print(my_decision_tree_model.score(x_val,y_val))"
   ]
  },
  {
   "cell_type": "code",
   "execution_count": null,
   "metadata": {
    "_uuid": "04f89146d46fe33da31e33c6ae2d21c4009313b4"
   },
   "outputs": [],
   "source": [
    "print(my_decision_tree_model.score(x_test,y_test))"
   ]
  },
  {
   "cell_type": "code",
   "execution_count": null,
   "metadata": {
    "_uuid": "c73ab47a04f7963c63aa76ee736dfb3c6fcd8166"
   },
   "outputs": [],
   "source": [
    "y_predict_decision = my_decision_tree_model.predict(x_test)\n",
    "cm = confusion_matrix(y_test, y_predict_decision) \n",
    "\n",
    "# Transform to df for easier plotting\n",
    "cm_df = pd.DataFrame(cm,\n",
    "                     index = ['MI','KKR','RCB','DC','CSK','RR','DD','GL','KXIP','SRH','RPS','KTK','PW'], \n",
    "                     columns = ['MI','KKR','RCB','DC','CSK','RR','DD','GL','KXIP','SRH','RPS','KTK','PW' ])\n",
    "\n",
    "plt.figure(figsize=(5.5,4))\n",
    "sns.heatmap(cm_df, annot=True)\n",
    "plt.title('Decision Tree \\nAccuracy:{0:.3f}'.format(accuracy_score(y_test, y_predict_decision)))\n",
    "plt.ylabel('True label')\n",
    "plt.xlabel('Predicted label')\n",
    "plt.show()"
   ]
  },
  {
   "cell_type": "code",
   "execution_count": null,
   "metadata": {
    "_uuid": "9b86df516cd7f1a055a9b80c92c738ec6eea3fd0"
   },
   "outputs": [],
   "source": [
    "# Learning Curve\n",
    "train_sizes, train_scores, val_scores = learning_curve(OneVsRestClassifier(DecisionTreeClassifier(max_depth = 5, min_samples_leaf = 6)), \n",
    "        x_model, \n",
    "        y_model,\n",
    "        # Number of folds in cross-validation\n",
    "        cv=5,\n",
    "        # Evaluation metric\n",
    "        scoring='accuracy',\n",
    "        # Use all computer cores\n",
    "        # 50 different sizes of the training set\n",
    "        train_sizes=np.linspace(0.1, 1.0, 5))\n",
    "\n",
    "# Create means and standard deviations of training set scores\n",
    "train_mean = np.mean(train_scores, axis=1)\n",
    "train_std = np.std(train_scores, axis=1)\n",
    "\n",
    "# Create means and standard deviations of validation set scores\n",
    "val_mean = np.mean(val_scores, axis=1)\n",
    "val_std = np.std(val_scores, axis=1)\n",
    "\n",
    "# Draw lines\n",
    "plt.plot(train_sizes, train_mean, '--', color=\"#ff8040\",  label=\"Training score\")\n",
    "plt.plot(train_sizes, val_mean, color=\"#40bfff\", label=\"Cross-validation score\")\n",
    "\n",
    "# Draw bands\n",
    "plt.fill_between(train_sizes, train_mean - train_std, train_mean + train_std, color=\"#DDDDDD\")\n",
    "plt.fill_between(train_sizes, val_mean - val_std, val_mean + val_std, color=\"#DDDDDD\")\n",
    "\n",
    "# Create plot\n",
    "plt.title(\"Decision Tree Learning Curve \\n \")\n",
    "plt.xlabel(\"Training Set Size\"), plt.ylabel(\"Accuracy Score\"), plt.legend(loc=\"best\")\n",
    "plt.tight_layout()\n",
    "plt.show()"
   ]
  },
  {
   "cell_type": "code",
   "execution_count": null,
   "metadata": {
    "_uuid": "63e72b0335384c3ce3012aaf1feb6ea63867c6a7"
   },
   "outputs": [],
   "source": [
    "# Curse of Dimensionality\n",
    "\n",
    "d_train = []\n",
    "d_val = []\n",
    "\n",
    "for i in range(1,11):\n",
    "    \n",
    "    x_train_index = x_train.iloc[: , 0:i]\n",
    "    x_val_index = x_val.iloc[: , 0:i]\n",
    "    \n",
    "    classifier = DecisionTreeClassifier(max_depth = 5, min_samples_leaf = 6)\n",
    "    dt_model = classifier.fit(x_train_index, y_train.values.ravel())\n",
    "\n",
    "    d_train.append(dt_model.score(x_train_index, y_train))\n",
    "    d_val.append(dt_model.score(x_val_index, y_val))\n",
    "plt.title('Decision Tree Curse of Dimensionality')\n",
    "plt.plot(range(1,11),d_val,label=\"Validation\")\n",
    "plt.plot(range(1,11),d_train,label=\"Train\")\n",
    "plt.xlabel('Number of Features')\n",
    "plt.ylabel('Score (Accuracy)')\n",
    "plt.legend()\n",
    "plt.xticks(range(1,11))\n",
    "plt.show()"
   ]
  },
  {
   "cell_type": "code",
   "execution_count": null,
   "metadata": {
    "_uuid": "1f066cc0611d0af975365105f629fb0d2831e2aa"
   },
   "outputs": [],
   "source": [
    "## Using Logisitic Regression\n",
    "\n"
   ]
  },
  {
   "cell_type": "code",
   "execution_count": null,
   "metadata": {
    "_uuid": "8ffdc990a377a55b8e6989f425c25f0670f17207"
   },
   "outputs": [],
   "source": []
  },
  {
   "cell_type": "code",
   "execution_count": null,
   "metadata": {
    "_uuid": "e0dc9333fb4b2bf58a08d8684db49832b382e37d"
   },
   "outputs": [],
   "source": [
    "from sklearn.linear_model import LogisticRegression\n",
    "import warnings\n",
    "warnings.filterwarnings(\"ignore\", category=FutureWarning)\n",
    "\n",
    "logistic_model = LogisticRegression()\n",
    "logistic_model.fit(x_train, y_train.values.ravel())\n",
    "\n",
    "print(logistic_model.score(x_train,y_train))\n",
    "print(logistic_model.score(x_val,y_val))"
   ]
  },
  {
   "cell_type": "code",
   "execution_count": null,
   "metadata": {
    "_uuid": "017755aaeed27c13ad85887e26e7689af39a1f63"
   },
   "outputs": [],
   "source": [
    "train_score = []\n",
    "val_score=[]\n",
    "\n",
    "for i in np.arange(1,80):\n",
    "    \n",
    "    logistic_model = LogisticRegression(penalty = 'l2', C = i,random_state = 0)\n",
    "    \n",
    "    logistic_model.fit(x_train,y_train.values.ravel()) \n",
    "    \n",
    "    train_score.append(logistic_model.score(x_train, y_train))\n",
    "    val_score.append(logistic_model.score(x_val,y_val))\n",
    "\n",
    "    \n",
    "plt.plot(np.arange(1,80),train_score)\n",
    "plt.plot(np.arange(1,80),val_score)\n",
    "plt.legend(['Training Accuracy','Validation Accuracy'])\n",
    "plt.title('Logistic Regression Tuning')\n",
    "plt.xlabel('C')\n",
    "plt.ylabel('Accuracy')"
   ]
  },
  {
   "cell_type": "code",
   "execution_count": null,
   "metadata": {
    "_uuid": "90960ed8a2386eeb426939d30b12e5ab0507f7a0"
   },
   "outputs": [],
   "source": [
    "my_logistic_regression_model = LogisticRegression(penalty = 'l2', C = 48, random_state = 0)\n",
    "my_logistic_regression_model.fit(x_train, y_train)\n",
    "print(my_logistic_regression_model.score(x_train,y_train))\n",
    "print(my_logistic_regression_model.score(x_val,y_val))"
   ]
  },
  {
   "cell_type": "code",
   "execution_count": null,
   "metadata": {
    "_uuid": "ddffbbf1b25a8bc71b4cd0528a65decdbb6de0e1"
   },
   "outputs": [],
   "source": [
    "print(my_logistic_regression_model.score(x_test,y_test))"
   ]
  },
  {
   "cell_type": "code",
   "execution_count": null,
   "metadata": {
    "_uuid": "fcff2b15e16ab0c9d58e10371e92fb57bcd44e01"
   },
   "outputs": [],
   "source": [
    "y_predict_logit = my_logistic_regression_model.predict(x_test)\n",
    "cm = confusion_matrix(y_test, y_predict_logit) \n",
    "\n",
    "# Transform to df for easier plotting\n",
    "cm_df = pd.DataFrame(cm,\n",
    "                     index = ['MI','KKR','RCB','DC','CSK','RR','DD','GL','KXIP','SRH','RPS','KTK','PW'], \n",
    "                     columns = ['MI','KKR','RCB','DC','CSK','RR','DD','GL','KXIP','SRH','RPS','KTK','PW' ])\n",
    "\n",
    "plt.figure(figsize=(5.5,4))\n",
    "sns.heatmap(cm_df, annot=True)\n",
    "plt.title('Logistic Regression \\nAccuracy:{0:.3f}'.format(accuracy_score(y_test, y_predict_logit)))\n",
    "plt.ylabel('True label')\n",
    "plt.xlabel('Predicted label')\n",
    "plt.show()"
   ]
  },
  {
   "cell_type": "code",
   "execution_count": null,
   "metadata": {
    "_uuid": "98b6edfd7d91cd3bc7cf56882f2ba3f15bb88322"
   },
   "outputs": [],
   "source": [
    "# Learning Curve\n",
    "\n",
    "train_sizes, train_scores, val_scores = learning_curve(OneVsRestClassifier(LogisticRegression(penalty = 'l2', C = 48, random_state = 0)), \n",
    "        x_model, \n",
    "        y_model,\n",
    "        # Number of folds in cross-validation\n",
    "        cv=5,\n",
    "        # Evaluation metric\n",
    "        scoring='accuracy',\n",
    "        # Use all computer cores\n",
    "        # 50 different sizes of the training set\n",
    "        train_sizes=np.linspace(0.1, 1.0, 5))\n",
    "\n",
    "# Create means and standard deviations of training set scores\n",
    "train_mean = np.mean(train_scores, axis=1)\n",
    "train_std = np.std(train_scores, axis=1)\n",
    "\n",
    "# Create means and standard deviations of validation set scores\n",
    "val_mean = np.mean(val_scores, axis=1)\n",
    "val_std = np.std(val_scores, axis=1)\n",
    "\n",
    "# Draw lines\n",
    "plt.plot(train_sizes, train_mean, '--', color=\"#ff8040\",  label=\"Training score\")\n",
    "plt.plot(train_sizes, val_mean, color=\"#40bfff\", label=\"Cross-validation score\")\n",
    "\n",
    "# Draw bands\n",
    "plt.fill_between(train_sizes, train_mean - train_std, train_mean + train_std, color=\"#DDDDDD\")\n",
    "plt.fill_between(train_sizes, val_mean - val_std, val_mean + val_std, color=\"#DDDDDD\")\n",
    "\n",
    "# Create plot\n",
    "plt.title(\"Logistic Regression Learning Curve \\n \")\n",
    "plt.xlabel(\"Training Set Size\"), plt.ylabel(\"Accuracy Score\"), plt.legend(loc=\"best\")\n",
    "plt.tight_layout()\n",
    "plt.show()"
   ]
  },
  {
   "cell_type": "code",
   "execution_count": null,
   "metadata": {
    "_uuid": "f68327bd96b81f694bbd00071e5eac6392ba00a4"
   },
   "outputs": [],
   "source": [
    "# Curse of Dimensionality\n",
    "\n",
    "d_train = []\n",
    "d_val = []\n",
    "\n",
    "for i in range(1,11):\n",
    "    \n",
    "    x_train_index = x_train.iloc[: , 0:i]\n",
    "    x_val_index = x_val.iloc[: , 0:i]\n",
    "    \n",
    "    classifier = LogisticRegression(penalty = 'l2', C = 48, random_state = 0)\n",
    "    lr_model = classifier.fit(x_train_index, y_train.values.ravel())\n",
    "\n",
    "    d_train.append(lr_model.score(x_train_index, y_train))\n",
    "    d_val.append(lr_model.score(x_val_index, y_val))"
   ]
  },
  {
   "cell_type": "code",
   "execution_count": null,
   "metadata": {
    "_uuid": "697e3661e368d56202b744b202fed5dab03205c8"
   },
   "outputs": [],
   "source": [
    "plt.title('Logistic Regression Curse of Dimensionality')\n",
    "plt.plot(range(1,11),d_val,label=\"Validation\")\n",
    "plt.plot(range(1,11),d_train,label=\"Train\")\n",
    "plt.xlabel('Number of Features')\n",
    "plt.ylabel('Score (Accuracy)')\n",
    "plt.legend()\n",
    "plt.xticks(range(1,11))\n",
    "plt.show()"
   ]
  },
  {
   "cell_type": "code",
   "execution_count": null,
   "metadata": {
    "_uuid": "32877e336c081ea7337dfaa1dc20cdf4d51cecf4"
   },
   "outputs": [],
   "source": [
    "print(\"Logistic Regression \\nAccuracy:{0:.4f}\".format(accuracy_score(y_test, y_predict_logit)))\n",
    "print(\"Decision Tree \\nAccuracy:{0:.4f}\".format(accuracy_score(y_test, y_predict_decision)))\n",
    "#print(\"Naive Bayes \\nAccuracy:{0:.4f}\".format(accuracy_score(y_test, y_predict_nb)))\n",
    "#print(\"KNN Accuracy \\nAccuracy:{0:.4f}\".format(accuracy_score(y_test, y_predict_knn)))"
   ]
  },
  {
   "cell_type": "markdown",
   "metadata": {
    "_uuid": "6d87a8d68f66f5341c7065fa3b2544947a41733b"
   },
   "source": [
    "=============================================================================================="
   ]
  }
 ],
 "metadata": {
  "kernelspec": {
   "display_name": "Python 3",
   "language": "python",
   "name": "python3"
  },
  "language_info": {
   "codemirror_mode": {
    "name": "ipython",
    "version": 3
   },
   "file_extension": ".py",
   "mimetype": "text/x-python",
   "name": "python",
   "nbconvert_exporter": "python",
   "pygments_lexer": "ipython3",
   "version": "3.7.6"
  }
 },
 "nbformat": 4,
 "nbformat_minor": 1
}
